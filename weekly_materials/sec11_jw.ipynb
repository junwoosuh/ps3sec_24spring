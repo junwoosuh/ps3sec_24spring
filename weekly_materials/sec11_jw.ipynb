{
 "cells": [
  {
   "cell_type": "markdown",
   "id": "b1001354",
   "metadata": {},
   "source": [
    "# POLSCI 3 Spring 2024 \n",
    "\n",
    "## Week 11 Bivariate and Multivariate Regression (I)"
   ]
  },
  {
   "cell_type": "markdown",
   "id": "ae4a1a22",
   "metadata": {},
   "source": [
    "We will look at geographical data in the US. Let's see what variables predict county-level votes for the 2020 US presidential election."
   ]
  },
  {
   "cell_type": "code",
   "execution_count": null,
   "id": "59cf4e8e",
   "metadata": {},
   "outputs": [],
   "source": [
    "usvote <- readRDS(\"Data/project_24S/jw_us.RData\")\n",
    "usvote <- usvote[c(\"county_fips\",\"county name\",\"state\",\"vshare_d20\",\"vshare_r20\",\"vshare_d16\",\"vshare_r16\",\"ineq_15\",\"frac_religious\",\"college_15\",\"hispanic_15\",\"fdi_job\",\"manuf_empl_sh_chg_0015\",\"imm_share_rich_2016\",\"imm_share_high_2016\",\"imm_share_low_2016\",\"pop2000\")]\n",
    "head(usvote)\n",
    "\n",
    "# the data is compiled from a variety of sources: B. Enke (2020), Immigration is from Mayda et al., Trade and industry-share related variables are from Autor et al. (2020), and FDI is from Bureau of Labor Statistics."
   ]
  },
  {
   "cell_type": "markdown",
   "id": "b4fad014",
   "metadata": {},
   "source": [
    "The variables include a wide range of economic and demographic and social measures of US counties.\n",
    "For example,\n",
    "\n",
    "Potential independent variables:\n",
    "- `ineq_15` is the income inequality in a county level in 2015.\n",
    "- `frac_religious` is the proportion of the population that are religious\n",
    "- `college_15` is the share of college educated citizens in 2015\n",
    "- `hispanic_15` is the share of hispanic citizens in 2015\n",
    "- `fdi_job` is the share of foreign-owned companies' employment  in a county.\n",
    "- `manuf_empl_sh_chg_0015` is the change in manufacturing employment share between 2015 and 2000, which captures the decline in the manufacturing sector in various US regions, such as the manufacturing industrial belt in Illinois, Pennsylvenia, Michigan and Wisconsin.\n",
    "- `imm_share_rich_2016` is the share of the population with high-income-class immigrants in 2016\n",
    "- `imm_share_high_2016` is the share of the population with high-skilled (college educated) immigrants in 2016\n",
    "- `imm_share_low_2016` is the share of the population with low-skilled immigrants in 2016\n",
    "\n",
    "Potential dependent variables--the variables related to voting are:\n",
    "- `vshare_d20` indicates vote share for Joe Biden in the 2020 election,\n",
    "- `vshare_d20` indicates votes hare for Donald Trump in the 2020 election, \n",
    "- `vshare_d16` indicates the share for Hillary Clinton in 2016, \n",
    "- `vshare_d08` indicates vote share for Trump in 2016, \n",
    "and so on.\n",
    "\n",
    "Weights:\n",
    "\n",
    "- For the analysis, we may want to upweight us counties with a larger population, so that the entire result is somewhat representatitve of the entire US population. That is, use `weight=pop2000`"
   ]
  },
  {
   "cell_type": "markdown",
   "id": "5a3ee4fd",
   "metadata": {},
   "source": [
    "## **Bivariate Regression**\n",
    "\n",
    "Take a minute to look at the data. Try different variables. What variable would have a statistically significant positive relationship with vote share for Joe Biden?\n",
    "\n",
    "Think for 5 minutes and write which variable you expect to have a positive or negative relationship with vote share and why."
   ]
  },
  {
   "cell_type": "code",
   "execution_count": null,
   "id": "4f1b1568",
   "metadata": {},
   "outputs": [],
   "source": [
    "#I expect:  WRITE HERE\n",
    "#Because:   WRITE HERE"
   ]
  },
  {
   "cell_type": "markdown",
   "id": "ddfa00c8",
   "metadata": {},
   "source": [
    "Now test your expectation."
   ]
  },
  {
   "cell_type": "code",
   "execution_count": null,
   "id": "9f3219f1",
   "metadata": {},
   "outputs": [],
   "source": [
    "#try different variables! \n"
   ]
  },
  {
   "cell_type": "markdown",
   "id": "93b08c74",
   "metadata": {},
   "source": [
    "<font color=white>*sample code: summary(lm(data= usvote, vshare_d20 ~ college_15, weights=pop2000))*</font> \n"
   ]
  },
  {
   "cell_type": "markdown",
   "id": "bf5d121b",
   "metadata": {},
   "source": [
    "**Interpreting regression models**\n",
    "\n",
    "Using your results, try to format it in the standard way of interpreting linear regression:\n",
    "\n",
    "<font color=blue>*On average, one unit increase in the `independent variable` is associated with a `0000` increase in the `dependent variable`.*</font> \n",
    "\n",
    "\n",
    "(Replace the blanks with actual variable names and coefficients.)"
   ]
  },
  {
   "cell_type": "code",
   "execution_count": null,
   "id": "c30d2cf7",
   "metadata": {},
   "outputs": [],
   "source": [
    "# Your response:   WRITE HERE\n"
   ]
  },
  {
   "cell_type": "markdown",
   "id": "b469ebb8",
   "metadata": {},
   "source": [
    "**Application to Term Projects**\n",
    "\n",
    "On your term projects, write the code that you would run as the analysis, and provide a statement to interpret the result. ex) for increase in one unit, ~~\n",
    "- This will be difference_in_means() but also can be summary(lm()) \n",
    "- if you can and is applicable, create a plot! qplot() + geom_smooth()\n",
    "- Project notebook can be found here:\n",
    "https://r.datahub.berkeley.edu/hub/user-redirect/git-pull?repo=https%3A%2F%2Fgithub.com%2Fdbroockman%2FPS3-SP24-Public&branch=main&urlpath=tree%2FPS3-SP24-Public%2FFinal+Project%2FPS3_Final_Project.ipynb"
   ]
  },
  {
   "cell_type": "markdown",
   "id": "3514a990",
   "metadata": {},
   "source": [
    "## Multivariate Regression \n",
    "\n",
    "\n",
    "You may have found out that there can be some differences in the predicted Y and actual Y from the above bivariate regression. \n",
    "\n",
    "How do we make the prediction better? \n",
    "Multivariate regression is just adding another (or more) independent variables in the lm() formula. Now let's add one or more variable!"
   ]
  },
  {
   "cell_type": "markdown",
   "id": "2d555aef",
   "metadata": {},
   "source": [
    "**Is Bivariate Regression accurate in predicting the outcome variable?**\n",
    "\n",
    "Recall that the line of best fit is a line that minimizes the residuals, which minimizes the difference between the predicted outcome variable Y and the actual Y. Can we make this difference even smaller?\n",
    "\n",
    "Let's look at just one example: Alameda County"
   ]
  },
  {
   "cell_type": "code",
   "execution_count": null,
   "id": "9dac2bb0",
   "metadata": {},
   "outputs": [],
   "source": [
    "#Let's look at Alameda County. If you are interested in another county, search the fips code and add those counties to the subset.\n",
    "alameda <-subset(usvote, county_fips=='06001'|county_fips=='26163'|county_fips=='01015')\n",
    "alameda\n",
    "alameda$vshare_d20\n",
    "alameda$imm_share_low_2016\n",
    "alameda$imm_share_high_2016"
   ]
  },
  {
   "cell_type": "code",
   "execution_count": null,
   "id": "bec522d2",
   "metadata": {},
   "outputs": [],
   "source": [
    "#what is the vote support for Biden in 2020?\n",
    "0.802016"
   ]
  },
  {
   "cell_type": "code",
   "execution_count": null,
   "id": "796186a7",
   "metadata": {},
   "outputs": [],
   "source": [
    "#What does your model predict the vote to support?  (hint: coefficient*actual data + intercept = predicted Y)\n",
    "0.139 + 0.009*44.7"
   ]
  },
  {
   "cell_type": "markdown",
   "id": "c3a52087",
   "metadata": {},
   "source": [
    "The difference between the actual Y and the predicted Y for a bivariate case is quite large! \n",
    "\n",
    "Let's do the same thing for the two other counties."
   ]
  },
  {
   "cell_type": "code",
   "execution_count": null,
   "id": "9c87df22",
   "metadata": {},
   "outputs": [],
   "source": [
    "mod <- lm(data=usvote, formula= vshare_d20 ~ college_15) #this is the bivariate linear regression model\n",
    "mod$coef #these are the coefficients and intercepts\n",
    "predicted_y <- alameda$college_15*mod$coef[2] + mod$coef[1]  #this represents y = mx + b\n",
    "predicted_y # mx+b is assigned to be 'predicted_y'\n",
    "\n",
    "actual_y <- alameda$vshare_d20  \n",
    "actual_y #actual y is the actual outcome variable\n",
    "\n",
    "\n",
    "average_resid1 <- mean(predicted_y - actual_y)\n",
    "average_resid1"
   ]
  },
  {
   "cell_type": "markdown",
   "id": "082cc268",
   "metadata": {},
   "source": [
    "Now let's see the residuals for a multivariate model! "
   ]
  },
  {
   "cell_type": "code",
   "execution_count": null,
   "id": "3c0237de",
   "metadata": {},
   "outputs": [],
   "source": [
    "mod2 <- lm(data=usvote, formula=vshare_d20 ~ college_15 + imm_share_high_2016) #this model adds 'imm_share'\n",
    "summary(mod2)\n",
    "mod2$coef"
   ]
  },
  {
   "cell_type": "code",
   "execution_count": null,
   "id": "a8ce97a8",
   "metadata": {},
   "outputs": [],
   "source": [
    "predicted_y_2 <- alameda$college_15*mod2$coef[2] + alameda$imm_share_high_2016*mod2$coef[3] + mod2$coef[1]\n",
    "predicted_y_2\n",
    "actual_y_2 <- alameda$vshare_d20\n",
    "actual_y_2\n",
    "\n",
    "average_resid2<- mean(predicted_y_2 - actual_y_2)\n",
    "average_resid2"
   ]
  },
  {
   "cell_type": "markdown",
   "id": "8833a380",
   "metadata": {},
   "source": [
    "**Improving Prediction**\n",
    "\n",
    "Compare the two cases, of `average_resid1` and `average_resid2`.\n",
    "\n",
    "\n",
    "Which residual has a smaller average error? Do you think bivariate or multivariate models are better at predicting?"
   ]
  },
  {
   "cell_type": "code",
   "execution_count": null,
   "id": "68c3dbe0",
   "metadata": {},
   "outputs": [],
   "source": [
    "average_resid1\n",
    "average_resid2"
   ]
  },
  {
   "cell_type": "code",
   "execution_count": null,
   "id": "af3f5806",
   "metadata": {},
   "outputs": [],
   "source": [
    "# Your Answer: WRITE HERE"
   ]
  },
  {
   "cell_type": "markdown",
   "id": "d4813486",
   "metadata": {},
   "source": [
    "More on week 12...: **Reducing omitted variable bias**\n",
    "\n"
   ]
  }
 ],
 "metadata": {
  "kernelspec": {
   "display_name": "R",
   "language": "R",
   "name": "ir"
  },
  "language_info": {
   "codemirror_mode": "r",
   "file_extension": ".r",
   "mimetype": "text/x-r-source",
   "name": "R",
   "pygments_lexer": "r",
   "version": "3.6.1"
  }
 },
 "nbformat": 4,
 "nbformat_minor": 5
}

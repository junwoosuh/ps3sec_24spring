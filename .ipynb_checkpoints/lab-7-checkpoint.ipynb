{
 "cells": [
  {
   "cell_type": "markdown",
   "metadata": {},
   "source": [
    "# Uncertainty and Statistical Significance (Cont.)\n",
    "\n",
    "### PS 3 Week 7 Discussion - Yue Lin\n"
   ]
  },
  {
   "cell_type": "markdown",
   "metadata": {},
   "source": [
    "--------\n",
    "\n",
    "Today, we'll look at the data on final scores in a large undergraduate class where students were randomly assigned to attend tutoring. The final scores for all of the students in the course were recorded and participation in tutoring was noted. \n",
    "\n",
    "-------\n",
    "\n",
    "**Data Dictionary/Codebook**\n",
    "\n",
    "`Mentored`: `TRUE` = student participated in tutoring, `FALSE` = student did not participate in tutoring\n",
    "\n",
    "`Final`: student score on final\n",
    "\n",
    "--------\n"
   ]
  },
  {
   "cell_type": "code",
   "execution_count": null,
   "metadata": {},
   "outputs": [],
   "source": [
    "# Run this cell\n",
    "library(estimatr)\n",
    "scores <- read.csv(\"final_scores.csv\")\n",
    "head(scores)"
   ]
  },
  {
   "cell_type": "markdown",
   "metadata": {},
   "source": [
    "## Uncertainty\n",
    "\n",
    "How did students do on the Final? Let's have a look at the average score and standard deviation in the class."
   ]
  },
  {
   "cell_type": "code",
   "execution_count": null,
   "metadata": {},
   "outputs": [],
   "source": [
    "# mean\n",
    "NULL"
   ]
  },
  {
   "cell_type": "code",
   "execution_count": null,
   "metadata": {},
   "outputs": [],
   "source": [
    "# SD\n",
    "NULL"
   ]
  },
  {
   "cell_type": "markdown",
   "metadata": {},
   "source": [
    "Imagine that I am only able to get data for 50 students. I randomly sampled 50 students and asked them for their final scores. Now we treat the entire dataset/class as the population, and the 50 students as a sample.  "
   ]
  },
  {
   "cell_type": "code",
   "execution_count": null,
   "metadata": {},
   "outputs": [],
   "source": [
    "# Just run codes below, you do not need to understand\n",
    "\n",
    "set.seed(101) # set.seed to keep the result consistent across laptops\n",
    "our_sample <- scores[sample(1:nrow(scores), 50, replace = FALSE),] \n",
    "hist(our_sample$Final, col = \"gray\")\n",
    "abline(v = mean(our_sample$Final), col = \"red\", lwd = 3) \n",
    "# draw a red line to show the mean Final score in the 50 students sample"
   ]
  },
  {
   "cell_type": "code",
   "execution_count": null,
   "metadata": {},
   "outputs": [],
   "source": [
    "# What's the mean of the Final score for these 50 students?\n",
    "NULL\n",
    "\n",
    "# the standard deviation of 50 students?\n",
    "NULL"
   ]
  },
  {
   "cell_type": "markdown",
   "metadata": {},
   "source": [
    "Compare this to the mean of all of the students in the dataset! \n",
    "\n",
    "If we did this 1000 times, what are all of the potential outcomes? Let's take a look at the first 10:"
   ]
  },
  {
   "cell_type": "code",
   "execution_count": null,
   "metadata": {},
   "outputs": [],
   "source": [
    "# Just run codes below, you do not need to understand\n",
    "samples <- list()\n",
    "sample_means <- array()\n",
    "\n",
    "for(i in c(1:1000)){\n",
    "    samples[i] <- list(scores[sample(1:nrow(scores), 50, replace = FALSE),]) # sample 50 students without replacement\n",
    "    sample_means[i] <- mean(samples[[i]]$Final) # calculate their average score\n",
    "}\n",
    "\n",
    "head(sample_means, 10)"
   ]
  },
  {
   "cell_type": "code",
   "execution_count": null,
   "metadata": {},
   "outputs": [],
   "source": [
    "# Here's the range of outcomes we got with 1000 different samples:\n",
    "min(sample_means)\n",
    "max(sample_means)"
   ]
  },
  {
   "cell_type": "markdown",
   "metadata": {},
   "source": [
    "**Uncertainty** is measured by the amount of error/noise in an estimate of the mean."
   ]
  },
  {
   "cell_type": "code",
   "execution_count": null,
   "metadata": {},
   "outputs": [],
   "source": [
    "# Let's have a look at the histogram\n",
    "hist(sample_means)\n",
    "abline(v = mean(scores$Final), col = \"red\", lwd = 3) # draw a red line to show the average of the sample means \n",
    "\n",
    "# Recall: no matter what type of distribution from the population, sampling distribution (i.e., the distribution of the sample means) will always have a Normal Distribution."
   ]
  },
  {
   "cell_type": "markdown",
   "metadata": {},
   "source": [
    "## Standard Error\n",
    "\n",
    "What is the standard error of the samples above? Let's find the standard error using the first sample of Final scores we took (`our_sample$Final`).\n",
    "\n",
    "$$Standard Error = \\sqrt{\\frac{s^2_1}{n_1} + \\frac{s^2_2}{n_2}}$$"
   ]
  },
  {
   "cell_type": "code",
   "execution_count": null,
   "metadata": {},
   "outputs": [],
   "source": [
    "s1 <- ... #standard dev for not tutored\n",
    "s2 <- ... #standard dev for tutored\n",
    "n1 <- ... #sample size of not tutored, using the length function\n",
    "n2 <- ... #sample size of tutored, using the length function\n",
    "\n",
    "se <- ... #mathematically calculate using the formula above\n",
    "se"
   ]
  },
  {
   "cell_type": "markdown",
   "metadata": {},
   "source": [
    "What does the value we got for the standard error tell us?"
   ]
  },
  {
   "cell_type": "markdown",
   "metadata": {},
   "source": [
    "## Statistical Significance\n",
    "\n",
    "Back to our original question: Did receiving tutoring affect student performance on the Final? \n",
    "\n",
    "**Null Hypothesis:** Tutoring had no effect on Final Scores- scores for students who did not receive tutoring were the same as scores for students who did receive tutoring.  \n",
    "**Alternative Hypothesis:** Tutoring did have an effect on Final Scores- scores for students who did not receive tutoring were different from scores for students who did receive tutoring.\n",
    "\n",
    "### t- statistic\n",
    "\n",
    "The t-statistic describes how likely an estimate of the size we saw would arise by chance even if there is no treatment effect.\n",
    "\n",
    "Let's compare the average Final score for the students that were tutored in our sample of 50 students to the sample distribution of means if there were no treatment effect (not tutored)."
   ]
  },
  {
   "cell_type": "code",
   "execution_count": null,
   "metadata": {},
   "outputs": [],
   "source": [
    "#Find the average Final performance for the students that were tutored in our sample\n",
    "mean_sample_tutored = NULL\n",
    "mean_sample_tutored #our estimate from the sample"
   ]
  },
  {
   "cell_type": "code",
   "execution_count": null,
   "metadata": {},
   "outputs": [],
   "source": [
    "#Finding means Final score for students not tutored in samples\n",
    "#Run this cell, you do not need to understand the code here\n",
    "\n",
    "no_effect_means <- array() \n",
    "no_effect_scores <- numeric(0)\n",
    "for(i in c(1:1000)){\n",
    "    no_effect_means[i] <- mean(samples[[i]][!samples[[i]]$Mentored,]$Final)\n",
    "    no_effect_scores = c(no_effect_scores, samples[[i]][!samples[[i]]$Mentored,]$Final)\n",
    "}"
   ]
  },
  {
   "cell_type": "code",
   "execution_count": null,
   "metadata": {},
   "outputs": [],
   "source": [
    "#Visualize our results\n",
    "hist(no_effect_means, col = \"gray\")#, xlim = range(40, 75))\n",
    "abline(v = mean_sample_tutored, col = \"red\", lwd = 3) # draw a red line to show the mean of the tutored group, and compare"
   ]
  },
  {
   "cell_type": "markdown",
   "metadata": {},
   "source": [
    "**What does the histogram above tell us about the hypotheses?** \n",
    "\n",
    "Let's confirm by finding the t-statistic.\n",
    "\n",
    "$$ t = \\frac{estimate}{SE} $$\n",
    "\n",
    "The estimate in this case is the difference in the Final score between the two groups (tutored & not tutored)"
   ]
  },
  {
   "cell_type": "code",
   "execution_count": null,
   "metadata": {},
   "outputs": [],
   "source": [
    "# We already have the mean for the tutored students (mean_sample_tutored)\n",
    "# First, find the mean for the students who were not tutored in our sample\n",
    "mean_sample_not_tutored <- ...\n",
    "\n",
    "estimate <- ...\n",
    "t_statistic <- ...\n",
    "\n",
    "estimate #print estimate\n",
    "t_statistic #print t-statistic"
   ]
  },
  {
   "cell_type": "markdown",
   "metadata": {},
   "source": [
    "Is this t-statistic larger than 1.96 or smaller than -1.96?\n",
    "What does it tell us about the effect of our treatment?"
   ]
  },
  {
   "cell_type": "markdown",
   "metadata": {},
   "source": [
    "### Using the difference_in_means() function\n",
    "\n",
    "Today's exercise so far was simply to show the statistical intuition behind statistical processes! In practice, we'll use the `difference_in_means()` function to calculate the effect, t-score, standard error, and p-value. "
   ]
  },
  {
   "cell_type": "markdown",
   "metadata": {},
   "source": [
    "**Let's compare the results we calculated for `our_sample` to the results evaluated using `difference_in_means()`**"
   ]
  },
  {
   "cell_type": "code",
   "execution_count": null,
   "metadata": {},
   "outputs": [],
   "source": [
    "..."
   ]
  },
  {
   "cell_type": "markdown",
   "metadata": {},
   "source": [
    "**Now lets take a look at the `difference_in_means` for the entire `scores` dataset.**"
   ]
  },
  {
   "cell_type": "code",
   "execution_count": null,
   "metadata": {},
   "outputs": [],
   "source": [
    "..."
   ]
  },
  {
   "cell_type": "markdown",
   "metadata": {},
   "source": [
    "**Let's interpret the results:** \n",
    "\n",
    "What is the treatment effect? Standard Error? t-statistic? p-value?\n",
    "\n",
    "What do the t-statistic and p-value tell us about the treatment effect? Why? \n"
   ]
  }
 ],
 "metadata": {
  "kernelspec": {
   "display_name": "R",
   "language": "R",
   "name": "ir"
  },
  "language_info": {
   "codemirror_mode": "r",
   "file_extension": ".r",
   "mimetype": "text/x-r-source",
   "name": "R",
   "pygments_lexer": "r",
   "version": "3.6.1"
  }
 },
 "nbformat": 4,
 "nbformat_minor": 4
}

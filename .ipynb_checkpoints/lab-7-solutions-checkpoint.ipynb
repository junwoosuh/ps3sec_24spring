{
 "cells": [
  {
   "cell_type": "markdown",
   "metadata": {},
   "source": [
    "# Uncertainty and Statistical Significance (Cont.)\n",
    "\n",
    "### PS 3 Week 7 Discussion - Yue Lin\n"
   ]
  },
  {
   "cell_type": "markdown",
   "metadata": {},
   "source": [
    "--------\n",
    "\n",
    "Today, we'll look at the data on final scores in a large undergraduate class where students were randomly assigned to attend tutoring. The final scores for all of the students in the course were recorded and participation in tutoring was noted. \n",
    "\n",
    "-------\n",
    "\n",
    "**Data Dictionary/Codebook**\n",
    "\n",
    "`Mentored`: `TRUE` = student participated in tutoring, `FALSE` = student did not participate in tutoring\n",
    "\n",
    "`Final`: student score on final\n",
    "\n",
    "--------\n"
   ]
  },
  {
   "cell_type": "code",
   "execution_count": 17,
   "metadata": {},
   "outputs": [
    {
     "data": {
      "text/html": [
       "<table class=\"dataframe\">\n",
       "<caption>A data.frame: 6 × 2</caption>\n",
       "<thead>\n",
       "\t<tr><th></th><th scope=col>Mentored</th><th scope=col>Final</th></tr>\n",
       "\t<tr><th></th><th scope=col>&lt;lgl&gt;</th><th scope=col>&lt;dbl&gt;</th></tr>\n",
       "</thead>\n",
       "<tbody>\n",
       "\t<tr><th scope=row>1</th><td>FALSE</td><td>82</td></tr>\n",
       "\t<tr><th scope=row>2</th><td>FALSE</td><td>82</td></tr>\n",
       "\t<tr><th scope=row>3</th><td>FALSE</td><td>82</td></tr>\n",
       "\t<tr><th scope=row>4</th><td>FALSE</td><td>82</td></tr>\n",
       "\t<tr><th scope=row>5</th><td>FALSE</td><td>82</td></tr>\n",
       "\t<tr><th scope=row>6</th><td> TRUE</td><td>82</td></tr>\n",
       "</tbody>\n",
       "</table>\n"
      ],
      "text/latex": [
       "A data.frame: 6 × 2\n",
       "\\begin{tabular}{r|ll}\n",
       "  & Mentored & Final\\\\\n",
       "  & <lgl> & <dbl>\\\\\n",
       "\\hline\n",
       "\t1 & FALSE & 82\\\\\n",
       "\t2 & FALSE & 82\\\\\n",
       "\t3 & FALSE & 82\\\\\n",
       "\t4 & FALSE & 82\\\\\n",
       "\t5 & FALSE & 82\\\\\n",
       "\t6 &  TRUE & 82\\\\\n",
       "\\end{tabular}\n"
      ],
      "text/markdown": [
       "\n",
       "A data.frame: 6 × 2\n",
       "\n",
       "| <!--/--> | Mentored &lt;lgl&gt; | Final &lt;dbl&gt; |\n",
       "|---|---|---|\n",
       "| 1 | FALSE | 82 |\n",
       "| 2 | FALSE | 82 |\n",
       "| 3 | FALSE | 82 |\n",
       "| 4 | FALSE | 82 |\n",
       "| 5 | FALSE | 82 |\n",
       "| 6 |  TRUE | 82 |\n",
       "\n"
      ],
      "text/plain": [
       "  Mentored Final\n",
       "1 FALSE    82   \n",
       "2 FALSE    82   \n",
       "3 FALSE    82   \n",
       "4 FALSE    82   \n",
       "5 FALSE    82   \n",
       "6  TRUE    82   "
      ]
     },
     "metadata": {},
     "output_type": "display_data"
    }
   ],
   "source": [
    "# Run this cell\n",
    "library(estimatr)\n",
    "scores <- read.csv(\"final_scores.csv\")\n",
    "head(scores)"
   ]
  },
  {
   "cell_type": "markdown",
   "metadata": {},
   "source": [
    "## Uncertainty\n",
    "\n",
    "How did students do on the Final? Let's have a look at the average score and standard deviation in the class."
   ]
  },
  {
   "cell_type": "code",
   "execution_count": 18,
   "metadata": {},
   "outputs": [
    {
     "data": {
      "text/html": [
       "62.4384057971015"
      ],
      "text/latex": [
       "62.4384057971015"
      ],
      "text/markdown": [
       "62.4384057971015"
      ],
      "text/plain": [
       "[1] 62.43841"
      ]
     },
     "metadata": {},
     "output_type": "display_data"
    }
   ],
   "source": [
    "# mean\n",
    "mean(scores$Final)"
   ]
  },
  {
   "cell_type": "code",
   "execution_count": 19,
   "metadata": {},
   "outputs": [
    {
     "data": {
      "text/html": [
       "25.7127546305255"
      ],
      "text/latex": [
       "25.7127546305255"
      ],
      "text/markdown": [
       "25.7127546305255"
      ],
      "text/plain": [
       "[1] 25.71275"
      ]
     },
     "metadata": {},
     "output_type": "display_data"
    }
   ],
   "source": [
    "# SD\n",
    "sd(scores$Final)"
   ]
  },
  {
   "cell_type": "markdown",
   "metadata": {},
   "source": [
    "Imagine that I am only able to get data for 50 students. I randomly sampled 50 students and asked them for their final scores. Now we treat the entire dataset/class as the population, and the 50 students as a sample.  "
   ]
  },
  {
   "cell_type": "code",
   "execution_count": 20,
   "metadata": {},
   "outputs": [
    {
     "data": {
      "image/png": "[encoded data removed]",
      "text/plain": [
       "Plot with title “Histogram of our_sample$Final”"
      ]
     },
     "metadata": {
      "image/png": {
       "height": 420,
       "width": 420
      }
     },
     "output_type": "display_data"
    }
   ],
   "source": [
    "# Just run codes below, you do not need to understand\n",
    "\n",
    "set.seed(101) # set.seed to keep the result consistent across laptops\n",
    "our_sample <- scores[sample(1:nrow(scores), 50, replace = FALSE),] \n",
    "hist(our_sample$Final, col = \"gray\")\n",
    "abline(v = mean(our_sample$Final), col = \"red\", lwd = 3) \n",
    "# draw a red line to show the mean Final score in the 50 students sample"
   ]
  },
  {
   "cell_type": "code",
   "execution_count": 21,
   "metadata": {},
   "outputs": [
    {
     "data": {
      "text/html": [
       "58.98"
      ],
      "text/latex": [
       "58.98"
      ],
      "text/markdown": [
       "58.98"
      ],
      "text/plain": [
       "[1] 58.98"
      ]
     },
     "metadata": {},
     "output_type": "display_data"
    },
    {
     "data": {
      "text/html": [
       "25.1513703120015"
      ],
      "text/latex": [
       "25.1513703120015"
      ],
      "text/markdown": [
       "25.1513703120015"
      ],
      "text/plain": [
       "[1] 25.15137"
      ]
     },
     "metadata": {},
     "output_type": "display_data"
    }
   ],
   "source": [
    "# What's the mean of the Final score for these 50 students?\n",
    "mean(our_sample$Final)\n",
    "\n",
    "# the standard deviation of 50 students?\n",
    "sd(our_sample$Final)"
   ]
  },
  {
   "cell_type": "markdown",
   "metadata": {},
   "source": [
    "Compare this to the mean of all of the students in the dataset! \n",
    "\n",
    "If we did this 1000 times, what are all of the potential outcomes? Let's take a look at the first 10:"
   ]
  },
  {
   "cell_type": "code",
   "execution_count": 22,
   "metadata": {},
   "outputs": [
    {
     "data": {
      "text/html": [
       "<style>\n",
       ".list-inline {list-style: none; margin:0; padding: 0}\n",
       ".list-inline>li {display: inline-block}\n",
       ".list-inline>li:not(:last-child)::after {content: \"\\00b7\"; padding: 0 .5ex}\n",
       "</style>\n",
       "<ol class=list-inline><li>59.12</li><li>62.52</li><li>66.14</li><li>61</li><li>60.49</li><li>59.16</li><li>65.19</li><li>62.55</li><li>65.12</li><li>68.4</li></ol>\n"
      ],
      "text/latex": [
       "\\begin{enumerate*}\n",
       "\\item 59.12\n",
       "\\item 62.52\n",
       "\\item 66.14\n",
       "\\item 61\n",
       "\\item 60.49\n",
       "\\item 59.16\n",
       "\\item 65.19\n",
       "\\item 62.55\n",
       "\\item 65.12\n",
       "\\item 68.4\n",
       "\\end{enumerate*}\n"
      ],
      "text/markdown": [
       "1. 59.12\n",
       "2. 62.52\n",
       "3. 66.14\n",
       "4. 61\n",
       "5. 60.49\n",
       "6. 59.16\n",
       "7. 65.19\n",
       "8. 62.55\n",
       "9. 65.12\n",
       "10. 68.4\n",
       "\n",
       "\n"
      ],
      "text/plain": [
       " [1] 59.12 62.52 66.14 61.00 60.49 59.16 65.19 62.55 65.12 68.40"
      ]
     },
     "metadata": {},
     "output_type": "display_data"
    }
   ],
   "source": [
    "# Just run codes below, you do not need to understand\n",
    "samples <- list()\n",
    "sample_means <- array()\n",
    "\n",
    "for(i in c(1:1000)){\n",
    "    samples[i] <- list(scores[sample(1:nrow(scores), 50, replace = FALSE),]) # sample 50 students without replacement\n",
    "    sample_means[i] <- mean(samples[[i]]$Final) # calculate their average score\n",
    "}\n",
    "\n",
    "head(sample_means, 10)"
   ]
  },
  {
   "cell_type": "code",
   "execution_count": 23,
   "metadata": {},
   "outputs": [
    {
     "data": {
      "text/html": [
       "49.52"
      ],
      "text/latex": [
       "49.52"
      ],
      "text/markdown": [
       "49.52"
      ],
      "text/plain": [
       "[1] 49.52"
      ]
     },
     "metadata": {},
     "output_type": "display_data"
    },
    {
     "data": {
      "text/html": [
       "75.15"
      ],
      "text/latex": [
       "75.15"
      ],
      "text/markdown": [
       "75.15"
      ],
      "text/plain": [
       "[1] 75.15"
      ]
     },
     "metadata": {},
     "output_type": "display_data"
    }
   ],
   "source": [
    "# Here's the range of outcomes we got with 1000 different samples:\n",
    "min(sample_means)\n",
    "max(sample_means)"
   ]
  },
  {
   "cell_type": "markdown",
   "metadata": {},
   "source": [
    "**Uncertainty** is measured by the amount of error/noise in an estimate of the mean."
   ]
  },
  {
   "cell_type": "code",
   "execution_count": 24,
   "metadata": {},
   "outputs": [
    {
     "data": {
      "image/png": "[encoded data removed]",
      "text/plain": [
       "Plot with title “Histogram of sample_means”"
      ]
     },
     "metadata": {
      "image/png": {
       "height": 420,
       "width": 420
      }
     },
     "output_type": "display_data"
    }
   ],
   "source": [
    "# Let's have a look at the histogram\n",
    "hist(sample_means)\n",
    "abline(v = mean(scores$Final), col = \"red\", lwd = 3) # draw a red line to show the average of the sample means \n",
    "\n",
    "# Recall: no matter what type of distribution from the population, sampling distribution (i.e., the distribution of the sample means) will always have a Normal Distribution."
   ]
  },
  {
   "cell_type": "markdown",
   "metadata": {},
   "source": [
    "## Standard Error\n",
    "\n",
    "What is the standard error of the samples above? Let's find the standard error using the first sample of Final scores we took (`our_sample$Final`).\n",
    "\n",
    "$$Standard Error = \\sqrt{\\frac{s^2_1}{n_1} + \\frac{s^2_2}{n_2}}$$"
   ]
  },
  {
   "cell_type": "code",
   "execution_count": 41,
   "metadata": {},
   "outputs": [],
   "source": [
    "s1 <- sd(subset(our_sample, Mentored==FALSE)$Final) #standard dev for not tutored\n",
    "s2 <- sd(subset(our_sample, Mentored==TRUE)$Final) #standard dev for tutored\n",
    "n1 <- length(subset(our_sample, Mentored==FALSE)$Final) #sample size of not tutored, using the length function\n",
    "n2 <- length(subset(our_sample, Mentored==TRUE)$Final) #sample size of tutored, using the length function"
   ]
  },
  {
   "cell_type": "code",
   "execution_count": 42,
   "metadata": {},
   "outputs": [
    {
     "data": {
      "text/html": [
       "23.3995775578333"
      ],
      "text/latex": [
       "23.3995775578333"
      ],
      "text/markdown": [
       "23.3995775578333"
      ],
      "text/plain": [
       "[1] 23.39958"
      ]
     },
     "metadata": {},
     "output_type": "display_data"
    }
   ],
   "source": [
    "s1"
   ]
  },
  {
   "cell_type": "code",
   "execution_count": 43,
   "metadata": {},
   "outputs": [
    {
     "data": {
      "text/html": [
       "5.9719651130895"
      ],
      "text/latex": [
       "5.9719651130895"
      ],
      "text/markdown": [
       "5.9719651130895"
      ],
      "text/plain": [
       "[1] 5.971965"
      ]
     },
     "metadata": {},
     "output_type": "display_data"
    }
   ],
   "source": [
    "se <- sqrt(s1^2/n1 + s2^2/n2) #mathematically calculate using the formula above\n",
    "se"
   ]
  },
  {
   "cell_type": "markdown",
   "metadata": {},
   "source": [
    "What does the value we got for the standard error tell us?"
   ]
  },
  {
   "cell_type": "markdown",
   "metadata": {},
   "source": [
    "## Statistical Significance\n",
    "\n",
    "Back to our original question: Did receiving tutoring affect student performance on the Final? \n",
    "\n",
    "**Null Hypothesis:** Tutoring had no effect on Final Scores- scores for students who did not receive tutoring were the same as scores for students who did receive tutoring.  \n",
    "**Alternative Hypothesis:** Tutoring did have an effect on Final Scores- scores for students who did not receive tutoring were different from scores for students who did receive tutoring.\n",
    "\n",
    "### t- statistic\n",
    "\n",
    "The t-statistic describes how likely an estimate of the size we saw would arise by chance even if there is no treatment effect.\n",
    "\n",
    "Let's compare the average Final score for the students that were tutored in our sample of 50 students to the sample distribution of means if there were no treatment effect (not tutored)."
   ]
  },
  {
   "cell_type": "code",
   "execution_count": 28,
   "metadata": {},
   "outputs": [
    {
     "data": {
      "text/html": [
       "73.5663189269747"
      ],
      "text/latex": [
       "73.5663189269747"
      ],
      "text/markdown": [
       "73.5663189269747"
      ],
      "text/plain": [
       "[1] 73.56632"
      ]
     },
     "metadata": {},
     "output_type": "display_data"
    }
   ],
   "source": [
    "#Find the average Final performance for the students that were tutored in our sample\n",
    "mean_sample_tutored = mean(subset(our_sample, Mentored==TRUE)$Final)\n",
    "mean_sample_tutored #our estimate from the sample"
   ]
  },
  {
   "cell_type": "code",
   "execution_count": 29,
   "metadata": {},
   "outputs": [],
   "source": [
    "#Finding means Final score for students not tutored in samples\n",
    "#Run this cell, you do not need to understand the code here\n",
    "\n",
    "no_effect_means <- array() \n",
    "no_effect_scores <- numeric(0)\n",
    "for(i in c(1:1000)){\n",
    "    no_effect_means[i] <- mean(samples[[i]][!samples[[i]]$Mentored,]$Final)\n",
    "    no_effect_scores = c(no_effect_scores, samples[[i]][!samples[[i]]$Mentored,]$Final)\n",
    "}"
   ]
  },
  {
   "cell_type": "code",
   "execution_count": 30,
   "metadata": {},
   "outputs": [
    {
     "data": {
      "image/png": "[encoded data removed]",
      "text/plain": [
       "Plot with title “Histogram of no_effect_means”"
      ]
     },
     "metadata": {
      "image/png": {
       "height": 420,
       "width": 420
      }
     },
     "output_type": "display_data"
    }
   ],
   "source": [
    "#Visualize our results\n",
    "hist(no_effect_means, col = \"gray\")#, xlim = range(40, 75))\n",
    "abline(v = mean_sample_tutored, col = \"red\", lwd = 3) \n",
    "# draw a red line to show the mean of the tutored group, and compare"
   ]
  },
  {
   "cell_type": "markdown",
   "metadata": {},
   "source": [
    "**What does the histogram above tell us about the hypotheses?** \n",
    "\n",
    "Let's confirm by finding the t-statistic.\n",
    "\n",
    "$$ t = \\frac{estimate}{SE} $$\n",
    "\n",
    "The estimate in this case is the difference in the Final score between the two groups (tutored & not tutored)"
   ]
  },
  {
   "cell_type": "code",
   "execution_count": 44,
   "metadata": {},
   "outputs": [
    {
     "data": {
      "text/html": [
       "25.2329855936413"
      ],
      "text/latex": [
       "25.2329855936413"
      ],
      "text/markdown": [
       "25.2329855936413"
      ],
      "text/plain": [
       "[1] 25.23299"
      ]
     },
     "metadata": {},
     "output_type": "display_data"
    },
    {
     "data": {
      "text/html": [
       "4.22523995298215"
      ],
      "text/latex": [
       "4.22523995298215"
      ],
      "text/markdown": [
       "4.22523995298215"
      ],
      "text/plain": [
       "[1] 4.22524"
      ]
     },
     "metadata": {},
     "output_type": "display_data"
    }
   ],
   "source": [
    "# We already have the mean for the tutored students (mean_sample_tutored)\n",
    "# First, find the mean for the students who were not tutored in our sample\n",
    "mean_sample_not_tutored <- mean(subset(our_sample, Mentored==FALSE)$Final)\n",
    "\n",
    "estimate <- mean_sample_tutored - mean_sample_not_tutored\n",
    "t_statistic <- estimate/se\n",
    "\n",
    "estimate #print estimate\n",
    "t_statistic #print t-statistic"
   ]
  },
  {
   "cell_type": "markdown",
   "metadata": {},
   "source": [
    "Is this t-statistic larger than 1.96 or smaller than -1.96?\n",
    "What does it tell us about the effect of our treatment?"
   ]
  },
  {
   "cell_type": "markdown",
   "metadata": {},
   "source": [
    "### Using the difference_in_means() function\n",
    "\n",
    "Today's exercise so far was simply to show the statistical intuition behind statistical processes! In practice, we'll use the `difference_in_means()` function to calculate the effect, t-score, standard error, and p-value. "
   ]
  },
  {
   "cell_type": "markdown",
   "metadata": {},
   "source": [
    "**Let's compare the results we calculated for `our_sample` to the results evaluated using `difference_in_means()`**"
   ]
  },
  {
   "cell_type": "code",
   "execution_count": 45,
   "metadata": {},
   "outputs": [
    {
     "data": {
      "text/plain": [
       "Design:  Standard \n",
       "         Estimate Std. Error  t value     Pr(>|t|) CI Lower CI Upper       DF\n",
       "Mentored 26.61667   5.971965 4.456936 5.239275e-05 14.59814 38.63519 46.34496"
      ]
     },
     "metadata": {},
     "output_type": "display_data"
    }
   ],
   "source": [
    "difference_in_means(Final ~ Mentored, our_sample, condition1=FALSE, condition2=TRUE)"
   ]
  },
  {
   "cell_type": "markdown",
   "metadata": {},
   "source": [
    "**Now lets take a look at the `difference_in_means` for the entire `scores` dataset.**"
   ]
  },
  {
   "cell_type": "code",
   "execution_count": 46,
   "metadata": {},
   "outputs": [
    {
     "data": {
      "text/plain": [
       "Design:  Standard \n",
       "         Estimate Std. Error  t value     Pr(>|t|) CI Lower CI Upper       DF\n",
       "Mentored 18.70845   1.180301 15.85057 1.684749e-52 16.39327 21.02363 1526.994"
      ]
     },
     "metadata": {},
     "output_type": "display_data"
    }
   ],
   "source": [
    "difference_in_means(Final~Mentored, scores, condition1=FALSE, condition2=TRUE)"
   ]
  },
  {
   "cell_type": "markdown",
   "metadata": {},
   "source": [
    "**Let's interpret the results:** \n",
    "\n",
    "What is the treatment effect? Standard Error? t-statistic? p-value?\n",
    "\n",
    "What do the t-statistic and p-value tell us about the treatment effect? Why? \n"
   ]
  }
 ],
 "metadata": {
  "kernelspec": {
   "display_name": "R",
   "language": "R",
   "name": "ir"
  },
  "language_info": {
   "codemirror_mode": "r",
   "file_extension": ".r",
   "mimetype": "text/x-r-source",
   "name": "R",
   "pygments_lexer": "r",
   "version": "3.6.1"
  }
 },
 "nbformat": 4,
 "nbformat_minor": 4
}

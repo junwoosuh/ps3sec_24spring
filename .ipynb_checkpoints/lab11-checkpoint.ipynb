{
 "cells": [
  {
   "cell_type": "markdown",
   "id": "b1001354",
   "metadata": {},
   "source": [
    "# POLSCI 3 Spring 2023 - Yue Lin\n",
    "\n",
    "## Week 11, Multivariate Regression"
   ]
  },
  {
   "cell_type": "markdown",
   "id": "ae4a1a22",
   "metadata": {},
   "source": [
    "We are interested in a classic question in social science: will economic growth lead to increased life expectancy?"
   ]
  },
  {
   "cell_type": "code",
   "execution_count": 3,
   "id": "00d52f66",
   "metadata": {},
   "outputs": [
    {
     "data": {
      "text/html": [
       "<table class=\"dataframe\">\n",
       "<caption>A data.frame: 6 × 3</caption>\n",
       "<thead>\n",
       "\t<tr><th></th><th scope=col>cname</th><th scope=col>expectancy</th><th scope=col>gdp_per_capita</th></tr>\n",
       "\t<tr><th></th><th scope=col>&lt;chr&gt;</th><th scope=col>&lt;dbl&gt;</th><th scope=col>&lt;dbl&gt;</th></tr>\n",
       "</thead>\n",
       "<tbody>\n",
       "\t<tr><th scope=row>1</th><td>Afghanistan</td><td>63.377</td><td> 1928</td></tr>\n",
       "\t<tr><th scope=row>2</th><td>Albania    </td><td>78.025</td><td>10032</td></tr>\n",
       "\t<tr><th scope=row>3</th><td>Algeria    </td><td>76.090</td><td>14004</td></tr>\n",
       "\t<tr><th scope=row>4</th><td>Angola     </td><td>59.398</td><td> 8689</td></tr>\n",
       "\t<tr><th scope=row>5</th><td>Argentina  </td><td>76.068</td><td>19502</td></tr>\n",
       "\t<tr><th scope=row>6</th><td>Armenia    </td><td>74.467</td><td>10042</td></tr>\n",
       "</tbody>\n",
       "</table>\n"
      ],
      "text/latex": [
       "A data.frame: 6 × 3\n",
       "\\begin{tabular}{r|lll}\n",
       "  & cname & expectancy & gdp\\_per\\_capita\\\\\n",
       "  & <chr> & <dbl> & <dbl>\\\\\n",
       "\\hline\n",
       "\t1 & Afghanistan & 63.377 &  1928\\\\\n",
       "\t2 & Albania     & 78.025 & 10032\\\\\n",
       "\t3 & Algeria     & 76.090 & 14004\\\\\n",
       "\t4 & Angola      & 59.398 &  8689\\\\\n",
       "\t5 & Argentina   & 76.068 & 19502\\\\\n",
       "\t6 & Armenia     & 74.467 & 10042\\\\\n",
       "\\end{tabular}\n"
      ],
      "text/markdown": [
       "\n",
       "A data.frame: 6 × 3\n",
       "\n",
       "| <!--/--> | cname &lt;chr&gt; | expectancy &lt;dbl&gt; | gdp_per_capita &lt;dbl&gt; |\n",
       "|---|---|---|---|\n",
       "| 1 | Afghanistan | 63.377 |  1928 |\n",
       "| 2 | Albania     | 78.025 | 10032 |\n",
       "| 3 | Algeria     | 76.090 | 14004 |\n",
       "| 4 | Angola      | 59.398 |  8689 |\n",
       "| 5 | Argentina   | 76.068 | 19502 |\n",
       "| 6 | Armenia     | 74.467 | 10042 |\n",
       "\n"
      ],
      "text/plain": [
       "  cname       expectancy gdp_per_capita\n",
       "1 Afghanistan 63.377      1928         \n",
       "2 Albania     78.025     10032         \n",
       "3 Algeria     76.090     14004         \n",
       "4 Angola      59.398      8689         \n",
       "5 Argentina   76.068     19502         \n",
       "6 Armenia     74.467     10042         "
      ]
     },
     "metadata": {},
     "output_type": "display_data"
    }
   ],
   "source": [
    "library(ggplot2) # allow us to make some graphs later\n",
    "life_gdp <- read.csv(\"gdp.csv\")\n",
    "head(life_gdp)"
   ]
  },
  {
   "cell_type": "markdown",
   "id": "5a3ee4fd",
   "metadata": {},
   "source": [
    "Note that `gdp_per_capita` is the predictor variable, and `expectancy` is the outcome variable."
   ]
  },
  {
   "cell_type": "code",
   "execution_count": null,
   "id": "d2eeadac",
   "metadata": {},
   "outputs": [],
   "source": [
    "# The linear relationship between the two variables looks like this:\n",
    "qplot(gdp_per_capita, expectancy, data = life_gdp) + geom_smooth(method=\"lm\")"
   ]
  },
  {
   "cell_type": "markdown",
   "id": "771fbd60",
   "metadata": {},
   "source": [
    "### Quick check 1\n",
    "\n",
    "Obtain the formula for the straight line above, by running a regression of `gdp_per_capita` against `expectancy`"
   ]
  },
  {
   "cell_type": "code",
   "execution_count": null,
   "id": "74bd684e",
   "metadata": {},
   "outputs": [],
   "source": [
    "summary(lm(...))"
   ]
  },
  {
   "cell_type": "markdown",
   "id": "1f450105",
   "metadata": {},
   "source": [
    "### Quick check 2\n",
    "\n",
    "Write the mathematical formula below"
   ]
  },
  {
   "cell_type": "markdown",
   "id": "b578e7f4",
   "metadata": {},
   "source": [
    "..."
   ]
  },
  {
   "cell_type": "markdown",
   "id": "c941a702",
   "metadata": {},
   "source": [
    "### Quick check 3\n",
    "\n",
    "Using the above mathematical formula, what is the predicted life expectancy for a country with GDP per capita of US$20,000?"
   ]
  },
  {
   "cell_type": "markdown",
   "id": "7f1b84a2",
   "metadata": {},
   "source": [
    "..."
   ]
  },
  {
   "cell_type": "markdown",
   "id": "320dbaf7",
   "metadata": {},
   "source": [
    "### Quick check 4\n",
    "\n",
    "Can you use the regression results above to predict the life expectancy for a country with GDP per capita of US$300,000? If yes, how would you do? If not, why?"
   ]
  },
  {
   "cell_type": "markdown",
   "id": "91d120af",
   "metadata": {},
   "source": [
    "..."
   ]
  },
  {
   "cell_type": "markdown",
   "id": "d5dd20bc",
   "metadata": {},
   "source": [
    "From now on, we will use the same campaign spending data from lecture."
   ]
  },
  {
   "cell_type": "code",
   "execution_count": 9,
   "id": "e752295f",
   "metadata": {},
   "outputs": [
    {
     "data": {
      "text/html": [
       "<table class=\"dataframe\">\n",
       "<caption>A data.frame: 6 × 10</caption>\n",
       "<thead>\n",
       "\t<tr><th></th><th scope=col>state</th><th scope=col>district</th><th scope=col>name_dem_cand</th><th scope=col>name_rep_cand</th><th scope=col>dem_us_house_percent_2020</th><th scope=col>dem_us_house_percent_2018</th><th scope=col>dem_won_ushouse_2018</th><th scope=col>clinton_percent_2016</th><th scope=col>spending_dem_ushouse_2020</th><th scope=col>spending_rep_ushouse_2020</th></tr>\n",
       "\t<tr><th></th><th scope=col>&lt;chr&gt;</th><th scope=col>&lt;int&gt;</th><th scope=col>&lt;chr&gt;</th><th scope=col>&lt;chr&gt;</th><th scope=col>&lt;dbl&gt;</th><th scope=col>&lt;dbl&gt;</th><th scope=col>&lt;int&gt;</th><th scope=col>&lt;dbl&gt;</th><th scope=col>&lt;dbl&gt;</th><th scope=col>&lt;dbl&gt;</th></tr>\n",
       "</thead>\n",
       "<tbody>\n",
       "\t<tr><th scope=row>1</th><td>AL</td><td>1</td><td>GARDNER, KIANI A    </td><td>CARL, JERRY LEE, JR     </td><td>35.53871</td><td>36.77648</td><td>0</td><td>34.93852</td><td>0.11866185</td><td>2.2325439</td></tr>\n",
       "\t<tr><th scope=row>2</th><td>AL</td><td>2</td><td>HARVEY-HALL, PHYLLIS</td><td>COLEMAN, JEFF           </td><td>34.68272</td><td>38.42594</td><td>0</td><td>33.70786</td><td>0.05766116</td><td>2.6159773</td></tr>\n",
       "\t<tr><th scope=row>3</th><td>AL</td><td>3</td><td>WINFREY, ADIA       </td><td>ROGERS, MICHAEL         </td><td>32.45933</td><td>36.21845</td><td>0</td><td>33.09426</td><td>0.04122109</td><td>1.2283404</td></tr>\n",
       "\t<tr><th scope=row>4</th><td>AL</td><td>4</td><td>NEIGHBORS, RICKY    </td><td>ADERHOLT, ROBERT B. REP.</td><td>17.68298</td><td>20.12911</td><td>0</td><td>17.79141</td><td>0.04790858</td><td>1.3521382</td></tr>\n",
       "\t<tr><th scope=row>5</th><td>AL</td><td>5</td><td>JOFFRION, PETER S.  </td><td>BROOKS, MO              </td><td> 0.00000</td><td>38.89471</td><td>0</td><td>32.60417</td><td>0.00310696</td><td>0.2237067</td></tr>\n",
       "\t<tr><th scope=row>6</th><td>AR</td><td>1</td><td>CAUSEY, CHAD        </td><td>CRAWFORD, ERIC ALAN RICK</td><td> 0.00000</td><td>28.77438</td><td>0</td><td>31.72269</td><td>0.00060000</td><td>1.0955175</td></tr>\n",
       "</tbody>\n",
       "</table>\n"
      ],
      "text/latex": [
       "A data.frame: 6 × 10\n",
       "\\begin{tabular}{r|llllllllll}\n",
       "  & state & district & name\\_dem\\_cand & name\\_rep\\_cand & dem\\_us\\_house\\_percent\\_2020 & dem\\_us\\_house\\_percent\\_2018 & dem\\_won\\_ushouse\\_2018 & clinton\\_percent\\_2016 & spending\\_dem\\_ushouse\\_2020 & spending\\_rep\\_ushouse\\_2020\\\\\n",
       "  & <chr> & <int> & <chr> & <chr> & <dbl> & <dbl> & <int> & <dbl> & <dbl> & <dbl>\\\\\n",
       "\\hline\n",
       "\t1 & AL & 1 & GARDNER, KIANI A     & CARL, JERRY LEE, JR      & 35.53871 & 36.77648 & 0 & 34.93852 & 0.11866185 & 2.2325439\\\\\n",
       "\t2 & AL & 2 & HARVEY-HALL, PHYLLIS & COLEMAN, JEFF            & 34.68272 & 38.42594 & 0 & 33.70786 & 0.05766116 & 2.6159773\\\\\n",
       "\t3 & AL & 3 & WINFREY, ADIA        & ROGERS, MICHAEL          & 32.45933 & 36.21845 & 0 & 33.09426 & 0.04122109 & 1.2283404\\\\\n",
       "\t4 & AL & 4 & NEIGHBORS, RICKY     & ADERHOLT, ROBERT B. REP. & 17.68298 & 20.12911 & 0 & 17.79141 & 0.04790858 & 1.3521382\\\\\n",
       "\t5 & AL & 5 & JOFFRION, PETER S.   & BROOKS, MO               &  0.00000 & 38.89471 & 0 & 32.60417 & 0.00310696 & 0.2237067\\\\\n",
       "\t6 & AR & 1 & CAUSEY, CHAD         & CRAWFORD, ERIC ALAN RICK &  0.00000 & 28.77438 & 0 & 31.72269 & 0.00060000 & 1.0955175\\\\\n",
       "\\end{tabular}\n"
      ],
      "text/markdown": [
       "\n",
       "A data.frame: 6 × 10\n",
       "\n",
       "| <!--/--> | state &lt;chr&gt; | district &lt;int&gt; | name_dem_cand &lt;chr&gt; | name_rep_cand &lt;chr&gt; | dem_us_house_percent_2020 &lt;dbl&gt; | dem_us_house_percent_2018 &lt;dbl&gt; | dem_won_ushouse_2018 &lt;int&gt; | clinton_percent_2016 &lt;dbl&gt; | spending_dem_ushouse_2020 &lt;dbl&gt; | spending_rep_ushouse_2020 &lt;dbl&gt; |\n",
       "|---|---|---|---|---|---|---|---|---|---|---|\n",
       "| 1 | AL | 1 | GARDNER, KIANI A     | CARL, JERRY LEE, JR      | 35.53871 | 36.77648 | 0 | 34.93852 | 0.11866185 | 2.2325439 |\n",
       "| 2 | AL | 2 | HARVEY-HALL, PHYLLIS | COLEMAN, JEFF            | 34.68272 | 38.42594 | 0 | 33.70786 | 0.05766116 | 2.6159773 |\n",
       "| 3 | AL | 3 | WINFREY, ADIA        | ROGERS, MICHAEL          | 32.45933 | 36.21845 | 0 | 33.09426 | 0.04122109 | 1.2283404 |\n",
       "| 4 | AL | 4 | NEIGHBORS, RICKY     | ADERHOLT, ROBERT B. REP. | 17.68298 | 20.12911 | 0 | 17.79141 | 0.04790858 | 1.3521382 |\n",
       "| 5 | AL | 5 | JOFFRION, PETER S.   | BROOKS, MO               |  0.00000 | 38.89471 | 0 | 32.60417 | 0.00310696 | 0.2237067 |\n",
       "| 6 | AR | 1 | CAUSEY, CHAD         | CRAWFORD, ERIC ALAN RICK |  0.00000 | 28.77438 | 0 | 31.72269 | 0.00060000 | 1.0955175 |\n",
       "\n"
      ],
      "text/plain": [
       "  state district name_dem_cand        name_rep_cand           \n",
       "1 AL    1        GARDNER, KIANI A     CARL, JERRY LEE, JR     \n",
       "2 AL    2        HARVEY-HALL, PHYLLIS COLEMAN, JEFF           \n",
       "3 AL    3        WINFREY, ADIA        ROGERS, MICHAEL         \n",
       "4 AL    4        NEIGHBORS, RICKY     ADERHOLT, ROBERT B. REP.\n",
       "5 AL    5        JOFFRION, PETER S.   BROOKS, MO              \n",
       "6 AR    1        CAUSEY, CHAD         CRAWFORD, ERIC ALAN RICK\n",
       "  dem_us_house_percent_2020 dem_us_house_percent_2018 dem_won_ushouse_2018\n",
       "1 35.53871                  36.77648                  0                   \n",
       "2 34.68272                  38.42594                  0                   \n",
       "3 32.45933                  36.21845                  0                   \n",
       "4 17.68298                  20.12911                  0                   \n",
       "5  0.00000                  38.89471                  0                   \n",
       "6  0.00000                  28.77438                  0                   \n",
       "  clinton_percent_2016 spending_dem_ushouse_2020 spending_rep_ushouse_2020\n",
       "1 34.93852             0.11866185                2.2325439                \n",
       "2 33.70786             0.05766116                2.6159773                \n",
       "3 33.09426             0.04122109                1.2283404                \n",
       "4 17.79141             0.04790858                1.3521382                \n",
       "5 32.60417             0.00310696                0.2237067                \n",
       "6 31.72269             0.00060000                1.0955175                "
      ]
     },
     "metadata": {},
     "output_type": "display_data"
    }
   ],
   "source": [
    "data <- read.csv(\"ps3-house-election-spending.csv\")\n",
    "head(data)"
   ]
  },
  {
   "cell_type": "markdown",
   "id": "60fec234",
   "metadata": {},
   "source": [
    "Here is a quick rundown of what each column means:\n",
    "\n",
    "- `state`: State (e.g., for CA-13, \"CA\")\n",
    "- `district`: District number (e.g., for CA-13, 13)\n",
    "- `name_dem_cand`: Democrat candidate name in the 2020 US House elections\n",
    "- `name_rep_cand`: Republican candidate name in the 2020 US House elections\n",
    "- `dem_us_house_percent_2020`: Democrat candidate's vote share in 2020 election (percent)\n",
    "- `dem_us_house_percent_2018`: Democrat candidate's vote share in 2018 election (percent)\n",
    "- `dem_won_ushouse_2018`: A Democrat won the US House election in 2018, and so is running for re-election in 2020 (0 = lost, 1 = won)\n",
    "- `clinton_percent_2016`: Clinton vote share in 2016 in the district (percent)\n",
    "- `spending_dem_ushouse_2020`: Democratic US House candidate's spending in 2020, in millions of dollars \n",
    "- `spending_rep_ushouse_2020`: Republican US House candidate's spending in 2020, in millions of dollars "
   ]
  },
  {
   "cell_type": "markdown",
   "id": "d4813486",
   "metadata": {},
   "source": [
    "### Does campaign spending work?\n",
    "\n",
    "We want to see how multivariate regression can help us _try_ (not necessarily succeed) to reduce omitted variable bias when we explore the effects of campaign spending in US elections.\n",
    "\n",
    "Let's begin by subsetting the data to Democratic districts (where Democrats won the house election in 2018):"
   ]
  },
  {
   "cell_type": "code",
   "execution_count": null,
   "id": "1f15d1de",
   "metadata": {},
   "outputs": [],
   "source": [
    "democrats <- ..."
   ]
  },
  {
   "cell_type": "markdown",
   "id": "65ac8b61",
   "metadata": {},
   "source": [
    "### Quick check 5\n",
    "\n",
    "Controlling for how Democratic-leaning the district was in the 2016 Presidential election, _and_ how they performed in the last election, regress the Democratic vote share in 2020 (outcome variable) against Democratic house spending in 2020 (predictor variable)."
   ]
  },
  {
   "cell_type": "code",
   "execution_count": null,
   "id": "31be6cd8",
   "metadata": {},
   "outputs": [],
   "source": [
    "summary(lm(...))"
   ]
  },
  {
   "cell_type": "markdown",
   "id": "ab866695",
   "metadata": {},
   "source": [
    "### Quick check 6 \n",
    "\n",
    "Interpret the estimate next to `spending_dem_ushouse_2020`"
   ]
  },
  {
   "cell_type": "markdown",
   "id": "cba69ae1",
   "metadata": {},
   "source": [
    "..."
   ]
  },
  {
   "cell_type": "markdown",
   "id": "dd49a582",
   "metadata": {},
   "source": [
    "### Quick check 7\n",
    "\n",
    "Evaluate the following claim: including more control variables eliminates OVB. "
   ]
  },
  {
   "cell_type": "markdown",
   "id": "57490219",
   "metadata": {},
   "source": [
    "..."
   ]
  }
 ],
 "metadata": {
  "kernelspec": {
   "display_name": "R",
   "language": "R",
   "name": "ir"
  },
  "language_info": {
   "codemirror_mode": "r",
   "file_extension": ".r",
   "mimetype": "text/x-r-source",
   "name": "R",
   "pygments_lexer": "r",
   "version": "3.6.1"
  }
 },
 "nbformat": 4,
 "nbformat_minor": 5
}

{
 "cells": [
  {
   "cell_type": "markdown",
   "metadata": {},
   "source": [
    "## PS3 Discussion: PO Framework in Experiments\n",
    "\n",
    "In this notebook, we will analyze data on psychological phenomenon of \"anchoring.\" As defined, anchoring is a cognitive bias whereby an individual's decisions are influenced by a particular reference point or anchor.\n",
    "\n",
    "In this case, students guessed the maximum speed of a cat in miles per hour. In one condition, the \"high\" condition, students were prompted with the message \n",
    "\n",
    "\"Is the maximum speed of an average house cat FASTER or SLOWER than **3** miles per hour?\"\n",
    "\n",
    "In the other condition, the \"low\" condition, students were prompted with\n",
    "\n",
    "\"Is the maximum speed of an average house cat FASTER or SLOWER than **40** miles per hour?\"\n",
    "\n",
    "The student then had to provide an estimate for the speed of a house cat. We want to learn: did the anchoring have an effect on students' estimates? Let's assume that students were randomly assigned to each group.\n",
    "\n",
    "\n",
    "-------\n",
    "\n",
    "**Data Dictionary/Codebook**\n",
    "\n",
    "`cat`: estimated speed in mph\n",
    "\n",
    "`before`: 1 = student knew the exercise beforehand, 0 = student did not know\n",
    "\n",
    "`live.cats`: 1 = student lives with cats, 0 = student does not live with cats\n",
    "\n",
    "`cond`: 1 = student was exposed to the \"high\" condition (40 mph), 0 = student was exposed to the \"low\" condition (3 mph)"
   ]
  },
  {
   "cell_type": "code",
   "execution_count": 1,
   "metadata": {},
   "outputs": [
    {
     "data": {
      "text/html": [
       "<table class=\"dataframe\">\n",
       "<caption>A data.frame: 6 × 4</caption>\n",
       "<thead>\n",
       "\t<tr><th></th><th scope=col>cat</th><th scope=col>before</th><th scope=col>live.cats</th><th scope=col>cond</th></tr>\n",
       "\t<tr><th></th><th scope=col>&lt;int&gt;</th><th scope=col>&lt;int&gt;</th><th scope=col>&lt;int&gt;</th><th scope=col>&lt;int&gt;</th></tr>\n",
       "</thead>\n",
       "<tbody>\n",
       "\t<tr><th scope=row>1</th><td> 2</td><td>0</td><td>0</td><td>0</td></tr>\n",
       "\t<tr><th scope=row>2</th><td> 1</td><td>0</td><td>0</td><td>1</td></tr>\n",
       "\t<tr><th scope=row>3</th><td>30</td><td>0</td><td>0</td><td>1</td></tr>\n",
       "\t<tr><th scope=row>4</th><td>25</td><td>0</td><td>0</td><td>1</td></tr>\n",
       "\t<tr><th scope=row>5</th><td>17</td><td>0</td><td>0</td><td>0</td></tr>\n",
       "\t<tr><th scope=row>6</th><td>50</td><td>0</td><td>0</td><td>1</td></tr>\n",
       "</tbody>\n",
       "</table>\n"
      ],
      "text/latex": [
       "A data.frame: 6 × 4\n",
       "\\begin{tabular}{r|llll}\n",
       "  & cat & before & live.cats & cond\\\\\n",
       "  & <int> & <int> & <int> & <int>\\\\\n",
       "\\hline\n",
       "\t1 &  2 & 0 & 0 & 0\\\\\n",
       "\t2 &  1 & 0 & 0 & 1\\\\\n",
       "\t3 & 30 & 0 & 0 & 1\\\\\n",
       "\t4 & 25 & 0 & 0 & 1\\\\\n",
       "\t5 & 17 & 0 & 0 & 0\\\\\n",
       "\t6 & 50 & 0 & 0 & 1\\\\\n",
       "\\end{tabular}\n"
      ],
      "text/markdown": [
       "\n",
       "A data.frame: 6 × 4\n",
       "\n",
       "| <!--/--> | cat &lt;int&gt; | before &lt;int&gt; | live.cats &lt;int&gt; | cond &lt;int&gt; |\n",
       "|---|---|---|---|---|\n",
       "| 1 |  2 | 0 | 0 | 0 |\n",
       "| 2 |  1 | 0 | 0 | 1 |\n",
       "| 3 | 30 | 0 | 0 | 1 |\n",
       "| 4 | 25 | 0 | 0 | 1 |\n",
       "| 5 | 17 | 0 | 0 | 0 |\n",
       "| 6 | 50 | 0 | 0 | 1 |\n",
       "\n"
      ],
      "text/plain": [
       "  cat before live.cats cond\n",
       "1  2  0      0         0   \n",
       "2  1  0      0         1   \n",
       "3 30  0      0         1   \n",
       "4 25  0      0         1   \n",
       "5 17  0      0         0   \n",
       "6 50  0      0         1   "
      ]
     },
     "metadata": {},
     "output_type": "display_data"
    }
   ],
   "source": [
    "# Run this cell to load data\n",
    "anchor <- read.csv(\"anchoring_data_FA20.csv\")\n",
    "head(anchor)"
   ]
  },
  {
   "cell_type": "markdown",
   "metadata": {},
   "source": [
    "**Quick Check 1**\n",
    "\n",
    "What are the potential outcomes for this experiment? Talk with your neighbors for a few minutes about this.\n",
    "\n",
    "(**Note:** We do NOT necessarily have a control group in this study. In a perfect study, we would have ALSO asked a third group of people to answer the question \"What is the maximum speed of an average house cat\", without an anchor, but we don't have that data in this case.)\n"
   ]
  },
  {
   "cell_type": "markdown",
   "metadata": {},
   "source": [
    "\n",
    "\n",
    "**Quick Check 2**\n",
    "\n",
    "Now, before we begin, let's \"clean\" the dataset. In this case, we want to remove some potentially problematic variables; we do NOT want to study people who (1) have lived with a cator or (2) know about the goal of the experiment, since they'll be more knowledgeable and have different answers. Use the subset function, and save the result to the new variable `focus_anchor`.\n"
   ]
  },
  {
   "cell_type": "code",
   "execution_count": 2,
   "metadata": {},
   "outputs": [
    {
     "data": {
      "text/plain": [
       "NULL"
      ]
     },
     "metadata": {},
     "output_type": "display_data"
    }
   ],
   "source": [
    "no_cat <- NULL # type your codes here\n",
    "focus_anchor <- NULL \n",
    "\n",
    "#Equivalently, one-liner: focus_anchor <- subset(anchor, live.cats == 0 & before == 0)\n",
    "\n",
    "head(focus_anchor)"
   ]
  },
  {
   "cell_type": "markdown",
   "metadata": {},
   "source": [
    "Now, let's compare the results!"
   ]
  },
  {
   "cell_type": "code",
   "execution_count": null,
   "metadata": {},
   "outputs": [],
   "source": [
    "# What am I doing in the codes below? Explain to your neighbor. \n",
    "\n",
    "high_focus <- subset(focus_anchor, cond == 1)\n",
    "low_focus <- subset(focus_anchor, cond == 0)\n",
    "\n",
    "mean(high_focus$cat) # What does this number mean? What does it tell us about the potential outcome?\n",
    "mean(low_focus$cat) # This one?\n",
    "\n",
    "mean(low_focus$cat) - mean(high_focus$cat) # How about this? \n",
    "#Bonus point: what condition is needed to make this step accurate?"
   ]
  },
  {
   "cell_type": "markdown",
   "metadata": {},
   "source": [
    "**Quick Check 3**\n",
    "\n",
    "If the treatment conditions are not randomly assigned, name a potential omitted variable that can bias the results. "
   ]
  }
 ],
 "metadata": {
  "kernelspec": {
   "display_name": "R",
   "language": "R",
   "name": "ir"
  },
  "language_info": {
   "codemirror_mode": "r",
   "file_extension": ".r",
   "mimetype": "text/x-r-source",
   "name": "R",
   "pygments_lexer": "r",
   "version": "4.3.2"
  }
 },
 "nbformat": 4,
 "nbformat_minor": 4
}

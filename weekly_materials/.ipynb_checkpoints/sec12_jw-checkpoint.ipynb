{
 "cells": [
  {
   "cell_type": "markdown",
   "id": "b1001354",
   "metadata": {},
   "source": [
    "# POLSCI 3 Spring 2024 \n",
    "\n",
    "## Week 11-12, Bivariate and Multivariate Regression"
   ]
  },
  {
   "cell_type": "markdown",
   "id": "ae4a1a22",
   "metadata": {},
   "source": [
    "We will look at geographical data in the US. Let's see what variables predict county-level votes for the 2020 US presidential election."
   ]
  },
  {
   "cell_type": "code",
   "execution_count": 65,
   "id": "20cac3d2",
   "metadata": {},
   "outputs": [
    {
     "data": {
      "text/html": [
       "<table>\n",
       "<thead><tr><th scope=col>county_fips</th><th scope=col>county name</th><th scope=col>state</th><th scope=col>vshare_d20</th><th scope=col>vshare_r20</th><th scope=col>vshare_d16</th><th scope=col>vshare_r16</th><th scope=col>ineq_15</th><th scope=col>frac_religious</th><th scope=col>college_15</th><th scope=col>hispanic_15</th><th scope=col>fdi_job</th><th scope=col>manuf_empl_sh_chg_0015</th><th scope=col>imm_share_rich_2016</th><th scope=col>imm_share_high_2016</th><th scope=col>imm_share_low_2016</th><th scope=col>pop2000</th></tr></thead>\n",
       "<tbody>\n",
       "\t<tr><td>01001          </td><td>NA             </td><td>Alabama        </td><td>0.27018365     </td><td>0.7143680      </td><td>0.23769671     </td><td>0.7276659      </td><td>-0.7417201     </td><td>0.5611275      </td><td>25.0           </td><td>2.7            </td><td>       NA      </td><td> -6.854344     </td><td>0.002118371    </td><td>0.01436495     </td><td>0.005845213    </td><td> 43872         </td></tr>\n",
       "\t<tr><td>01003          </td><td>baldwin,alabama</td><td>Alabama        </td><td>0.22409030     </td><td>0.7617137      </td><td>0.19385601     </td><td>0.7654571      </td><td> 0.2148053     </td><td>0.4724282      </td><td>30.7           </td><td>4.4            </td><td>0.0135221      </td><td> -5.995992     </td><td>0.007579527    </td><td>0.04042304     </td><td>0.008773437    </td><td>141358         </td></tr>\n",
       "\t<tr><td>01005          </td><td>NA             </td><td>Alabama        </td><td>0.45788173     </td><td>0.5345123      </td><td>0.46527844     </td><td>0.5209667      </td><td> 0.4085104     </td><td>       NA      </td><td>12.0           </td><td>4.2            </td><td>       NA      </td><td>-14.970241     </td><td>0.002944708    </td><td>0.02250980     </td><td>0.023491438    </td><td> 29035         </td></tr>\n",
       "\t<tr><td>01007          </td><td>NA             </td><td>Alabama        </td><td>0.20698280     </td><td>0.7842626      </td><td>0.21249575     </td><td>0.7640322      </td><td>-0.2070494     </td><td>0.4636512      </td><td>13.2           </td><td>2.4            </td><td>       NA      </td><td>-10.728883     </td><td>0.001100840    </td><td>0.01600797     </td><td>0.003522455    </td><td> 19936         </td></tr>\n",
       "\t<tr><td>01009          </td><td>NA             </td><td>Alabama        </td><td>0.09569378     </td><td>0.8957155      </td><td>0.08425825     </td><td>0.8933484      </td><td>-0.3951379     </td><td>0.5079178      </td><td>13.1           </td><td>9.0            </td><td>       NA      </td><td>-12.928381     </td><td>0.004910792    </td><td>0.04556374     </td><td>0.017142832    </td><td> 51181         </td></tr>\n",
       "\t<tr><td>01011          </td><td>NA             </td><td>Alabama        </td><td>0.74701929     </td><td>0.2484284      </td><td>0.74946921     </td><td>0.2420382      </td><td>-0.1473899     </td><td>       NA      </td><td>13.4           </td><td>0.3            </td><td>       NA      </td><td>        NA     </td><td>0.011164758    </td><td>0.08538585     </td><td>0.001851567    </td><td> 11604         </td></tr>\n",
       "</tbody>\n",
       "</table>\n"
      ],
      "text/latex": [
       "\\begin{tabular}{r|lllllllllllllllll}\n",
       " county\\_fips & county name & state & vshare\\_d20 & vshare\\_r20 & vshare\\_d16 & vshare\\_r16 & ineq\\_15 & frac\\_religious & college\\_15 & hispanic\\_15 & fdi\\_job & manuf\\_empl\\_sh\\_chg\\_0015 & imm\\_share\\_rich\\_2016 & imm\\_share\\_high\\_2016 & imm\\_share\\_low\\_2016 & pop2000\\\\\n",
       "\\hline\n",
       "\t 01001           & NA              & Alabama         & 0.27018365      & 0.7143680       & 0.23769671      & 0.7276659       & -0.7417201      & 0.5611275       & 25.0            & 2.7             &        NA       &  -6.854344      & 0.002118371     & 0.01436495      & 0.005845213     &  43872         \\\\\n",
       "\t 01003           & baldwin,alabama & Alabama         & 0.22409030      & 0.7617137       & 0.19385601      & 0.7654571       &  0.2148053      & 0.4724282       & 30.7            & 4.4             & 0.0135221       &  -5.995992      & 0.007579527     & 0.04042304      & 0.008773437     & 141358         \\\\\n",
       "\t 01005           & NA              & Alabama         & 0.45788173      & 0.5345123       & 0.46527844      & 0.5209667       &  0.4085104      &        NA       & 12.0            & 4.2             &        NA       & -14.970241      & 0.002944708     & 0.02250980      & 0.023491438     &  29035         \\\\\n",
       "\t 01007           & NA              & Alabama         & 0.20698280      & 0.7842626       & 0.21249575      & 0.7640322       & -0.2070494      & 0.4636512       & 13.2            & 2.4             &        NA       & -10.728883      & 0.001100840     & 0.01600797      & 0.003522455     &  19936         \\\\\n",
       "\t 01009           & NA              & Alabama         & 0.09569378      & 0.8957155       & 0.08425825      & 0.8933484       & -0.3951379      & 0.5079178       & 13.1            & 9.0             &        NA       & -12.928381      & 0.004910792     & 0.04556374      & 0.017142832     &  51181         \\\\\n",
       "\t 01011           & NA              & Alabama         & 0.74701929      & 0.2484284       & 0.74946921      & 0.2420382       & -0.1473899      &        NA       & 13.4            & 0.3             &        NA       &         NA      & 0.011164758     & 0.08538585      & 0.001851567     &  11604         \\\\\n",
       "\\end{tabular}\n"
      ],
      "text/markdown": [
       "\n",
       "| county_fips | county name | state | vshare_d20 | vshare_r20 | vshare_d16 | vshare_r16 | ineq_15 | frac_religious | college_15 | hispanic_15 | fdi_job | manuf_empl_sh_chg_0015 | imm_share_rich_2016 | imm_share_high_2016 | imm_share_low_2016 | pop2000 |\n",
       "|---|---|---|---|---|---|---|---|---|---|---|---|---|---|---|---|---|\n",
       "| 01001           | NA              | Alabama         | 0.27018365      | 0.7143680       | 0.23769671      | 0.7276659       | -0.7417201      | 0.5611275       | 25.0            | 2.7             |        NA       |  -6.854344      | 0.002118371     | 0.01436495      | 0.005845213     |  43872          |\n",
       "| 01003           | baldwin,alabama | Alabama         | 0.22409030      | 0.7617137       | 0.19385601      | 0.7654571       |  0.2148053      | 0.4724282       | 30.7            | 4.4             | 0.0135221       |  -5.995992      | 0.007579527     | 0.04042304      | 0.008773437     | 141358          |\n",
       "| 01005           | NA              | Alabama         | 0.45788173      | 0.5345123       | 0.46527844      | 0.5209667       |  0.4085104      |        NA       | 12.0            | 4.2             |        NA       | -14.970241      | 0.002944708     | 0.02250980      | 0.023491438     |  29035          |\n",
       "| 01007           | NA              | Alabama         | 0.20698280      | 0.7842626       | 0.21249575      | 0.7640322       | -0.2070494      | 0.4636512       | 13.2            | 2.4             |        NA       | -10.728883      | 0.001100840     | 0.01600797      | 0.003522455     |  19936          |\n",
       "| 01009           | NA              | Alabama         | 0.09569378      | 0.8957155       | 0.08425825      | 0.8933484       | -0.3951379      | 0.5079178       | 13.1            | 9.0             |        NA       | -12.928381      | 0.004910792     | 0.04556374      | 0.017142832     |  51181          |\n",
       "| 01011           | NA              | Alabama         | 0.74701929      | 0.2484284       | 0.74946921      | 0.2420382       | -0.1473899      |        NA       | 13.4            | 0.3             |        NA       |         NA      | 0.011164758     | 0.08538585      | 0.001851567     |  11604          |\n",
       "\n"
      ],
      "text/plain": [
       "  county_fips county name     state   vshare_d20 vshare_r20 vshare_d16\n",
       "1 01001       NA              Alabama 0.27018365 0.7143680  0.23769671\n",
       "2 01003       baldwin,alabama Alabama 0.22409030 0.7617137  0.19385601\n",
       "3 01005       NA              Alabama 0.45788173 0.5345123  0.46527844\n",
       "4 01007       NA              Alabama 0.20698280 0.7842626  0.21249575\n",
       "5 01009       NA              Alabama 0.09569378 0.8957155  0.08425825\n",
       "6 01011       NA              Alabama 0.74701929 0.2484284  0.74946921\n",
       "  vshare_r16 ineq_15    frac_religious college_15 hispanic_15 fdi_job  \n",
       "1 0.7276659  -0.7417201 0.5611275      25.0       2.7                NA\n",
       "2 0.7654571   0.2148053 0.4724282      30.7       4.4         0.0135221\n",
       "3 0.5209667   0.4085104        NA      12.0       4.2                NA\n",
       "4 0.7640322  -0.2070494 0.4636512      13.2       2.4                NA\n",
       "5 0.8933484  -0.3951379 0.5079178      13.1       9.0                NA\n",
       "6 0.2420382  -0.1473899        NA      13.4       0.3                NA\n",
       "  manuf_empl_sh_chg_0015 imm_share_rich_2016 imm_share_high_2016\n",
       "1  -6.854344             0.002118371         0.01436495         \n",
       "2  -5.995992             0.007579527         0.04042304         \n",
       "3 -14.970241             0.002944708         0.02250980         \n",
       "4 -10.728883             0.001100840         0.01600797         \n",
       "5 -12.928381             0.004910792         0.04556374         \n",
       "6         NA             0.011164758         0.08538585         \n",
       "  imm_share_low_2016 pop2000\n",
       "1 0.005845213         43872 \n",
       "2 0.008773437        141358 \n",
       "3 0.023491438         29035 \n",
       "4 0.003522455         19936 \n",
       "5 0.017142832         51181 \n",
       "6 0.001851567         11604 "
      ]
     },
     "metadata": {},
     "output_type": "display_data"
    }
   ],
   "source": [
    "usvote <- readRDS(\"Data/project_24S/jw_us.RData\")\n",
    "usvote <- usvote[c(\"county_fips\",\"county name\",\"state\",\"vshare_d20\",\"vshare_r20\",\"vshare_d16\",\"vshare_r16\",\"ineq_15\",\"frac_religious\",\"college_15\",\"hispanic_15\",\"fdi_job\",\"manuf_empl_sh_chg_0015\",\"imm_share_rich_2016\",\"imm_share_high_2016\",\"imm_share_low_2016\",\"pop2000\")]\n",
    "head(usvote)"
   ]
  },
  {
   "cell_type": "markdown",
   "id": "651a4ede",
   "metadata": {},
   "source": [
    "The variables include a wide range of economic and demographic and social measures of US counties.\n",
    "For example,\n",
    "\n",
    "Potential independent variables:\n",
    "- `ineq_15` is the income inequality in a county level in 2015.\n",
    "- `frac_religious` is the proportion of the population that are religious\n",
    "- `college_15` is the share of college educated citizens in 2015\n",
    "- `hispanic_15` is the share of hispanic citizens in 2015\n",
    "- `fdi_job` is the share of foreign-owned companies' employment  in a county.\n",
    "- `manuf_empl_sh_chg_0015` is the change in manufacturing employment share between 2015 and 2000, which captures the decline in the manufacturing sector in various US regions, such as the manufacturing industrial belt in Illinois, Pennsylvenia, Michigan and Wisconsin.\n",
    "- `imm_share_rich_2016` is the share of the population with high-income-class immigrants in 2016\n",
    "- `imm_share_high_2016` is the share of the population with high-skilled (college educated) immigrants in 2016\n",
    "- `imm_share_low_2016` is the share of the population with low-skilled immigrants in 2016\n",
    "\n",
    "Potential dependent variables--the variables related to voting are:\n",
    "- `vshare_d20` indicates vote share for Joe Biden in the 2020 election,\n",
    "- `vshare_d20` indicates votes hare for Donald Trump in the 2020 election, \n",
    "- `vshare_d16` indicates the share for Hillary Clinton in 2016, \n",
    "- `vshare_d08` indicates vote share for Trump in 2016, \n",
    "and so on.\n",
    "\n",
    "Weights:\n",
    "\n",
    "- For the analysis, we may want to upweight us counties with a larger population, so that the entire result is somewhat representatitve of the entire US population. That is, use `weight=pop2000`"
   ]
  },
  {
   "cell_type": "markdown",
   "id": "5a3ee4fd",
   "metadata": {},
   "source": [
    "## **Bivariate Regression**\n",
    "\n",
    "Take a minute to look at the data. Try different variables. What variable would have a statistically significant positive relationship with vote share for Joe Biden?\n",
    "\n",
    "Think for 5 minutes and write which variable you expect to have a positive or negative relationship with vote share and why."
   ]
  },
  {
   "cell_type": "markdown",
   "id": "6d197c1a",
   "metadata": {},
   "source": []
  },
  {
   "cell_type": "code",
   "execution_count": 31,
   "id": "07ec6f90",
   "metadata": {},
   "outputs": [],
   "source": [
    "#I expect:  WRITE HERE\n",
    "#Because:   WRITE HERE"
   ]
  },
  {
   "cell_type": "markdown",
   "id": "26a79c6a",
   "metadata": {},
   "source": [
    "Now test your expectation."
   ]
  },
  {
   "cell_type": "code",
   "execution_count": 60,
   "id": "6c3b885b",
   "metadata": {},
   "outputs": [],
   "source": [
    "#try different variables! \n"
   ]
  },
  {
   "cell_type": "markdown",
   "id": "282e9c47",
   "metadata": {},
   "source": [
    "<font color=white>*sample code: summary(lm(data= usvote, vshare_d20 ~ college_15, weights=pop2000))*</font> \n"
   ]
  },
  {
   "cell_type": "markdown",
   "id": "b81e2b31",
   "metadata": {},
   "source": [
    "**Interpreting regression models**\n",
    "\n",
    "Using your results, try to format it in the standard way of interpreting linear regression:\n",
    "\n",
    "<font color=blue>*On average, one unit increase in the `independent variable` is associated with a `0000` increase in the `dependent variable`.*</font> \n",
    "\n",
    "\n",
    "(Replace the blanks with actual variable names and coefficients.)"
   ]
  },
  {
   "cell_type": "code",
   "execution_count": 61,
   "id": "c90fe748",
   "metadata": {},
   "outputs": [],
   "source": [
    "# Your response:   WRITE HERE\n"
   ]
  },
  {
   "cell_type": "markdown",
   "id": "3fb558ed",
   "metadata": {},
   "source": [
    "**Application to Term Projects**\n",
    "\n",
    "On your term projects, write the code that you would run as the analysis, and provide a statement to interpret the result. ex) for increase in one unit, ~~\n",
    "- This will be difference_in_means() but also can be summary(lm()) \n",
    "- if you can and is applicable, create a plot! qplot() + geom_smooth()\n",
    "- link can be found here:\n",
    "https://r.datahub.berkeley.edu/hub/user-redirect/git-pull?repo=https%3A%2F%2Fgithub.com%2Fdbroockman%2FPS3-SP24-Public&branch=main&urlpath=tree%2FPS3-SP24-Public%2FFinal+Project%2FPS3_Final_Project.ipynb"
   ]
  },
  {
   "cell_type": "markdown",
   "id": "f9bb6957",
   "metadata": {},
   "source": [
    "**Is Bivariate Regression accurate in predicting the outcome variable?**\n",
    "\n",
    "Let's look at just one example: Alameda County"
   ]
  },
  {
   "cell_type": "code",
   "execution_count": 63,
   "id": "30ae316c",
   "metadata": {},
   "outputs": [
    {
     "data": {
      "text/html": [
       "<table>\n",
       "<thead><tr><th></th><th scope=col>county_fips</th><th scope=col>county name</th><th scope=col>state</th><th scope=col>vshare_d20</th><th scope=col>vshare_r20</th><th scope=col>vshare_d16</th><th scope=col>vshare_r16</th><th scope=col>ineq_15</th><th scope=col>frac_religious</th><th scope=col>college_15</th><th scope=col>hispanic_15</th><th scope=col>fdi_job</th><th scope=col>manuf_empl_sh_chg_0015</th><th scope=col>imm_share_rich_2016</th><th scope=col>imm_share_high_2016</th><th scope=col>imm_share_low_2016</th><th scope=col>pop2000</th></tr></thead>\n",
       "<tbody>\n",
       "\t<tr><th scope=row>8</th><td>01015             </td><td>calhoun,alabama   </td><td>Alabama           </td><td>0.2984524         </td><td>0.6884844         </td><td>0.2766589         </td><td>0.6866330         </td><td>-0.1102047        </td><td>0.6429367         </td><td>17.9              </td><td> 3.6              </td><td>0.03954290        </td><td>-7.652754         </td><td>0.003193746       </td><td>0.02298463        </td><td>0.01005332        </td><td> 111342           </td></tr>\n",
       "\t<tr><th scope=row>158</th><td>06001             </td><td>alameda,california</td><td>California        </td><td>0.8020816         </td><td>0.1770086         </td><td>0.7869001         </td><td>0.1466101         </td><td> 0.6888828        </td><td>0.3494830         </td><td>44.7              </td><td>22.5              </td><td>0.05132620        </td><td>-3.737134         </td><td>0.035140533       </td><td>0.32443219        </td><td>0.07722125        </td><td>1450220           </td></tr>\n",
       "\t<tr><th scope=row>1285</th><td>26163             </td><td>wayne,michigan    </td><td>Michigan          </td><td>0.6844598         </td><td>0.3032234         </td><td>0.6678049         </td><td>0.2943968         </td><td> 1.0428772        </td><td>0.3771023         </td><td>22.8              </td><td> 5.7              </td><td>0.06881802        </td><td>-4.585289         </td><td>0.017599517       </td><td>0.08774737        </td><td>0.01730683        </td><td>2058758           </td></tr>\n",
       "</tbody>\n",
       "</table>\n"
      ],
      "text/latex": [
       "\\begin{tabular}{r|lllllllllllllllll}\n",
       "  & county\\_fips & county name & state & vshare\\_d20 & vshare\\_r20 & vshare\\_d16 & vshare\\_r16 & ineq\\_15 & frac\\_religious & college\\_15 & hispanic\\_15 & fdi\\_job & manuf\\_empl\\_sh\\_chg\\_0015 & imm\\_share\\_rich\\_2016 & imm\\_share\\_high\\_2016 & imm\\_share\\_low\\_2016 & pop2000\\\\\n",
       "\\hline\n",
       "\t8 & 01015              & calhoun,alabama    & Alabama            & 0.2984524          & 0.6884844          & 0.2766589          & 0.6866330          & -0.1102047         & 0.6429367          & 17.9               &  3.6               & 0.03954290         & -7.652754          & 0.003193746        & 0.02298463         & 0.01005332         &  111342           \\\\\n",
       "\t158 & 06001              & alameda,california & California         & 0.8020816          & 0.1770086          & 0.7869001          & 0.1466101          &  0.6888828         & 0.3494830          & 44.7               & 22.5               & 0.05132620         & -3.737134          & 0.035140533        & 0.32443219         & 0.07722125         & 1450220           \\\\\n",
       "\t1285 & 26163              & wayne,michigan     & Michigan           & 0.6844598          & 0.3032234          & 0.6678049          & 0.2943968          &  1.0428772         & 0.3771023          & 22.8               &  5.7               & 0.06881802         & -4.585289          & 0.017599517        & 0.08774737         & 0.01730683         & 2058758           \\\\\n",
       "\\end{tabular}\n"
      ],
      "text/markdown": [
       "\n",
       "| <!--/--> | county_fips | county name | state | vshare_d20 | vshare_r20 | vshare_d16 | vshare_r16 | ineq_15 | frac_religious | college_15 | hispanic_15 | fdi_job | manuf_empl_sh_chg_0015 | imm_share_rich_2016 | imm_share_high_2016 | imm_share_low_2016 | pop2000 |\n",
       "|---|---|---|---|---|---|---|---|---|---|---|---|---|---|---|---|---|---|\n",
       "| 8 | 01015              | calhoun,alabama    | Alabama            | 0.2984524          | 0.6884844          | 0.2766589          | 0.6866330          | -0.1102047         | 0.6429367          | 17.9               |  3.6               | 0.03954290         | -7.652754          | 0.003193746        | 0.02298463         | 0.01005332         |  111342            |\n",
       "| 158 | 06001              | alameda,california | California         | 0.8020816          | 0.1770086          | 0.7869001          | 0.1466101          |  0.6888828         | 0.3494830          | 44.7               | 22.5               | 0.05132620         | -3.737134          | 0.035140533        | 0.32443219         | 0.07722125         | 1450220            |\n",
       "| 1285 | 26163              | wayne,michigan     | Michigan           | 0.6844598          | 0.3032234          | 0.6678049          | 0.2943968          |  1.0428772         | 0.3771023          | 22.8               |  5.7               | 0.06881802         | -4.585289          | 0.017599517        | 0.08774737         | 0.01730683         | 2058758            |\n",
       "\n"
      ],
      "text/plain": [
       "     county_fips county name        state      vshare_d20 vshare_r20 vshare_d16\n",
       "8    01015       calhoun,alabama    Alabama    0.2984524  0.6884844  0.2766589 \n",
       "158  06001       alameda,california California 0.8020816  0.1770086  0.7869001 \n",
       "1285 26163       wayne,michigan     Michigan   0.6844598  0.3032234  0.6678049 \n",
       "     vshare_r16 ineq_15    frac_religious college_15 hispanic_15 fdi_job   \n",
       "8    0.6866330  -0.1102047 0.6429367      17.9        3.6        0.03954290\n",
       "158  0.1466101   0.6888828 0.3494830      44.7       22.5        0.05132620\n",
       "1285 0.2943968   1.0428772 0.3771023      22.8        5.7        0.06881802\n",
       "     manuf_empl_sh_chg_0015 imm_share_rich_2016 imm_share_high_2016\n",
       "8    -7.652754              0.003193746         0.02298463         \n",
       "158  -3.737134              0.035140533         0.32443219         \n",
       "1285 -4.585289              0.017599517         0.08774737         \n",
       "     imm_share_low_2016 pop2000\n",
       "8    0.01005332          111342\n",
       "158  0.07722125         1450220\n",
       "1285 0.01730683         2058758"
      ]
     },
     "metadata": {},
     "output_type": "display_data"
    },
    {
     "data": {
      "text/html": [
       "<ol class=list-inline>\n",
       "\t<li>0.298452425318243</li>\n",
       "\t<li>0.802081628942823</li>\n",
       "\t<li>0.684459849003231</li>\n",
       "</ol>\n"
      ],
      "text/latex": [
       "\\begin{enumerate*}\n",
       "\\item 0.298452425318243\n",
       "\\item 0.802081628942823\n",
       "\\item 0.684459849003231\n",
       "\\end{enumerate*}\n"
      ],
      "text/markdown": [
       "1. 0.298452425318243\n",
       "2. 0.802081628942823\n",
       "3. 0.684459849003231\n",
       "\n",
       "\n"
      ],
      "text/plain": [
       "[1] 0.2984524 0.8020816 0.6844598"
      ]
     },
     "metadata": {},
     "output_type": "display_data"
    },
    {
     "data": {
      "text/html": [
       "<ol class=list-inline>\n",
       "\t<li>0.0100533217191696</li>\n",
       "\t<li>0.0772212520241737</li>\n",
       "\t<li>0.0173068344593048</li>\n",
       "</ol>\n"
      ],
      "text/latex": [
       "\\begin{enumerate*}\n",
       "\\item 0.0100533217191696\n",
       "\\item 0.0772212520241737\n",
       "\\item 0.0173068344593048\n",
       "\\end{enumerate*}\n"
      ],
      "text/markdown": [
       "1. 0.0100533217191696\n",
       "2. 0.0772212520241737\n",
       "3. 0.0173068344593048\n",
       "\n",
       "\n"
      ],
      "text/plain": [
       "[1] 0.01005332 0.07722125 0.01730683"
      ]
     },
     "metadata": {},
     "output_type": "display_data"
    },
    {
     "data": {
      "text/html": [
       "<ol class=list-inline>\n",
       "\t<li>0.0229846332222223</li>\n",
       "\t<li>0.324432194232941</li>\n",
       "\t<li>0.0877473726868629</li>\n",
       "</ol>\n"
      ],
      "text/latex": [
       "\\begin{enumerate*}\n",
       "\\item 0.0229846332222223\n",
       "\\item 0.324432194232941\n",
       "\\item 0.0877473726868629\n",
       "\\end{enumerate*}\n"
      ],
      "text/markdown": [
       "1. 0.0229846332222223\n",
       "2. 0.324432194232941\n",
       "3. 0.0877473726868629\n",
       "\n",
       "\n"
      ],
      "text/plain": [
       "[1] 0.02298463 0.32443219 0.08774737"
      ]
     },
     "metadata": {},
     "output_type": "display_data"
    }
   ],
   "source": [
    "#Let's look at Alameda County. If you are interested in another county, search the fips code and add those counties to the subset.\n",
    "alameda <-subset(usvote, county_fips=='06001'|county_fips=='26163'|county_fips=='01015')\n",
    "alameda\n",
    "alameda$vshare_d20\n",
    "alameda$imm_share_low_2016\n",
    "alameda$imm_share_high_2016"
   ]
  },
  {
   "cell_type": "code",
   "execution_count": 17,
   "id": "9eed8dc8",
   "metadata": {},
   "outputs": [],
   "source": [
    "#what is the vote support for Biden in 2020?\n",
    "0.802016"
   ]
  },
  {
   "cell_type": "code",
   "execution_count": 67,
   "id": "f7277afd",
   "metadata": {},
   "outputs": [
    {
     "data": {
      "text/html": [
       "0.5413"
      ],
      "text/latex": [
       "0.5413"
      ],
      "text/markdown": [
       "0.5413"
      ],
      "text/plain": [
       "[1] 0.5413"
      ]
     },
     "metadata": {},
     "output_type": "display_data"
    }
   ],
   "source": [
    "#What does your model predict the vote to support?  (hint: coefficient*actual data + intercept = predicted Y)\n",
    "0.139 + 0.009*44.7"
   ]
  },
  {
   "cell_type": "markdown",
   "id": "7e4997a3",
   "metadata": {},
   "source": [
    "## Multivariate Regression \n",
    "\n",
    "\n",
    "You may have found out that there can be some differences in the predicted Y and actual Y from the above bivariate regression. \n",
    "\n",
    "How do we make the prediction better? \n",
    "Multivariate regression is just adding another (or more) independent variables in the lm() formula. Now let's add one or more variable!"
   ]
  },
  {
   "cell_type": "markdown",
   "id": "6c366684",
   "metadata": {},
   "source": [
    "**Improving Prediction**"
   ]
  },
  {
   "cell_type": "code",
   "execution_count": null,
   "id": "719d2164",
   "metadata": {},
   "outputs": [],
   "source": []
  },
  {
   "cell_type": "markdown",
   "id": "d4813486",
   "metadata": {},
   "source": [
    "More on week 12...\n",
    "\n",
    "**Reducing omitted variable bias**\n",
    "\n",
    "We want to see how multivariate regression can help us _try_ (not necessarily succeed) to reduce omitted variable bias when we explore the relationship between \n",
    "\n",
    "Let's begin by subsetting the data to Democratic districts (where Democrats won the house election in 2018):"
   ]
  },
  {
   "cell_type": "code",
   "execution_count": 3,
   "id": "1f15d1de",
   "metadata": {},
   "outputs": [],
   "source": []
  },
  {
   "cell_type": "markdown",
   "id": "65ac8b61",
   "metadata": {},
   "source": [
    "### Quick check 1: In your own words, interpret the results\n",
    "\n",
    "Controlling for how Democratic-leaning the district was in the 2016 Presidential election, _and_ how they performed in the last election, regress the Democratic vote share in 2020 (outcome variable) against Democratic house spending in 2020 (predictor variable)."
   ]
  },
  {
   "cell_type": "code",
   "execution_count": 9,
   "id": "31be6cd8",
   "metadata": {},
   "outputs": [
    {
     "data": {
      "text/plain": [
       "\n",
       "Call:\n",
       "lm(formula = dem_us_house_percent_2020 ~ spending_dem_ushouse_2020 + \n",
       "    clinton_percent_2016 + dem_us_house_percent_2018, data = democrats)\n",
       "\n",
       "Residuals:\n",
       "    Min      1Q  Median      3Q     Max \n",
       "-31.997  -2.373   0.026   2.137  39.802 \n",
       "\n",
       "Coefficients:\n",
       "                          Estimate Std. Error t value Pr(>|t|)    \n",
       "(Intercept)                6.15659    3.22338   1.910   0.0575 .  \n",
       "spending_dem_ushouse_2020 -0.21580    0.18532  -1.164   0.2456    \n",
       "clinton_percent_2016       0.78916    0.07449  10.594   <2e-16 ***\n",
       "dem_us_house_percent_2018  0.10672    0.06561   1.627   0.1053    \n",
       "---\n",
       "Signif. codes:  0 ‘***’ 0.001 ‘**’ 0.01 ‘*’ 0.05 ‘.’ 0.1 ‘ ’ 1\n",
       "\n",
       "Residual standard error: 8.059 on 207 degrees of freedom\n",
       "Multiple R-squared:  0.6707,\tAdjusted R-squared:  0.6659 \n",
       "F-statistic: 140.5 on 3 and 207 DF,  p-value: < 2.2e-16\n"
      ]
     },
     "metadata": {},
     "output_type": "display_data"
    }
   ],
   "source": [
    "summary(lm(dem_us_house_percent_2020~spending_dem_ushouse_2020+clinton_percent_2016+dem_us_house_percent_2018, data=democrats))"
   ]
  },
  {
   "cell_type": "markdown",
   "id": "ab866695",
   "metadata": {},
   "source": [
    "### Quick check 2\n",
    "\n",
    "Interpret the estimate next to `main independent variable`"
   ]
  },
  {
   "cell_type": "markdown",
   "id": "cba69ae1",
   "metadata": {},
   "source": [
    "Holding the `control varaible 1` and `control variable 2` constant, each additional increase in the `independent variable` in the `unit of observation(us counties)` is associated with `coefficient` change in the `dependent variable`."
   ]
  },
  {
   "cell_type": "code",
   "execution_count": null,
   "id": "d227c470",
   "metadata": {},
   "outputs": [],
   "source": [
    "#answer:  WRITE HERE"
   ]
  },
  {
   "cell_type": "markdown",
   "id": "dd49a582",
   "metadata": {},
   "source": [
    "### Quick check 3\n",
    "\n",
    "Evaluate the following claim: including more control variables eliminates OVB. "
   ]
  },
  {
   "cell_type": "code",
   "execution_count": 64,
   "id": "ece04233",
   "metadata": {},
   "outputs": [],
   "source": [
    "#answer: WRITE HERE"
   ]
  },
  {
   "cell_type": "markdown",
   "id": "57490219",
   "metadata": {},
   "source": [
    "<font color=white>\n",
    "False. Including the right control variables reduces the OVB, but we can never be sure that all of the relevant control variables are included.</font> "
   ]
  },
  {
   "cell_type": "code",
   "execution_count": null,
   "id": "849bc99f",
   "metadata": {},
   "outputs": [],
   "source": []
  }
 ],
 "metadata": {
  "kernelspec": {
   "display_name": "R",
   "language": "R",
   "name": "ir"
  },
  "language_info": {
   "codemirror_mode": "r",
   "file_extension": ".r",
   "mimetype": "text/x-r-source",
   "name": "R",
   "pygments_lexer": "r",
   "version": "3.6.1"
  }
 },
 "nbformat": 4,
 "nbformat_minor": 5
}

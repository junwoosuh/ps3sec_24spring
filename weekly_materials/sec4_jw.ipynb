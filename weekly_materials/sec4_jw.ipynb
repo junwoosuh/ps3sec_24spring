{
 "cells": [
  {
   "cell_type": "markdown",
   "metadata": {},
   "source": [
    "## PS3 Discussion: PO Framework in Experiments\n",
    "\n",
    "# Average Treatment Effect and Potential Outcomes\n"
   ]
  },
  {
   "cell_type": "markdown",
   "metadata": {},
   "source": [
    "## 1. Wellness Data, Treatment Effect, and Average Treatment Effect\n",
    "### 1.1. Treatment Effect\n",
    "Let's review yesterday's class. \n",
    "As a reminder, the Mean Difference of `po_control` and `po_treat` would be the 'ideal' treatment effect.\n"
   ]
  },
  {
   "cell_type": "code",
   "execution_count": 20,
   "metadata": {},
   "outputs": [
    {
     "data": {
      "text/html": [
       "<table>\n",
       "<thead><tr><th scope=col>name</th><th scope=col>participate</th><th scope=col>baseline</th><th scope=col>po_control</th><th scope=col>po_treat</th></tr></thead>\n",
       "<tbody>\n",
       "\t<tr><td>Alan      </td><td>0         </td><td>5125.63130</td><td>3035.8135 </td><td>3035.8135 </td></tr>\n",
       "\t<tr><td>Ellen     </td><td>0         </td><td>  86.21538</td><td> 114.8225 </td><td> 114.8225 </td></tr>\n",
       "\t<tr><td>Will      </td><td>0         </td><td> 588.56689</td><td> 634.4608 </td><td> 704.4608 </td></tr>\n",
       "\t<tr><td>Sue       </td><td>0         </td><td> 535.53156</td><td> 611.7972 </td><td> 611.7972 </td></tr>\n",
       "\t<tr><td>Andy      </td><td>0         </td><td> 585.91687</td><td> 128.5700 </td><td> 128.5700 </td></tr>\n",
       "\t<tr><td>Bas       </td><td>0         </td><td> 170.43001</td><td> 614.9316 </td><td> 614.9316 </td></tr>\n",
       "\t<tr><td>Milo      </td><td>0         </td><td> 800.00385</td><td> 301.5333 </td><td> 301.5333 </td></tr>\n",
       "\t<tr><td>Susan     </td><td>0         </td><td>   0.00000</td><td>   0.0000 </td><td>   0.0000 </td></tr>\n",
       "\t<tr><td>Anne      </td><td>0         </td><td>  21.27154</td><td> 117.0600 </td><td> 117.0600 </td></tr>\n",
       "\t<tr><td>Stephanie </td><td>0         </td><td>   0.00000</td><td>   0.0000 </td><td>   0.0000 </td></tr>\n",
       "\t<tr><td>Andrew    </td><td>0         </td><td>  93.15077</td><td> 310.1450 </td><td> 310.1450 </td></tr>\n",
       "\t<tr><td>Ryan      </td><td>1         </td><td>   0.00000</td><td>   0.0000 </td><td>   0.0000 </td></tr>\n",
       "\t<tr><td>Matthew   </td><td>1         </td><td> 408.21616</td><td> 112.8417 </td><td> 112.8417 </td></tr>\n",
       "\t<tr><td>Claire    </td><td>1         </td><td>1370.13540</td><td> 797.5024 </td><td> 792.5024 </td></tr>\n",
       "\t<tr><td>Beth      </td><td>0         </td><td>  28.82077</td><td> 192.2150 </td><td> 192.2150 </td></tr>\n",
       "\t<tr><td>Dan       </td><td>1         </td><td> 254.14308</td><td> 295.8675 </td><td> 295.8675 </td></tr>\n",
       "\t<tr><td>Paul      </td><td>0         </td><td>   0.00000</td><td>   0.0000 </td><td>   0.0000 </td></tr>\n",
       "\t<tr><td>Haley     </td><td>0         </td><td> 590.01306</td><td> 414.6858 </td><td> 364.6858 </td></tr>\n",
       "\t<tr><td>King      </td><td>0         </td><td> 373.18616</td><td>1310.0459 </td><td>1310.0459 </td></tr>\n",
       "\t<tr><td>Douglas   </td><td>1         </td><td> 302.05231</td><td> 205.1008 </td><td> 205.1008 </td></tr>\n",
       "</tbody>\n",
       "</table>\n"
      ],
      "text/latex": [
       "\\begin{tabular}{r|lllll}\n",
       " name & participate & baseline & po\\_control & po\\_treat\\\\\n",
       "\\hline\n",
       "\t Alan       & 0          & 5125.63130 & 3035.8135  & 3035.8135 \\\\\n",
       "\t Ellen      & 0          &   86.21538 &  114.8225  &  114.8225 \\\\\n",
       "\t Will       & 0          &  588.56689 &  634.4608  &  704.4608 \\\\\n",
       "\t Sue        & 0          &  535.53156 &  611.7972  &  611.7972 \\\\\n",
       "\t Andy       & 0          &  585.91687 &  128.5700  &  128.5700 \\\\\n",
       "\t Bas        & 0          &  170.43001 &  614.9316  &  614.9316 \\\\\n",
       "\t Milo       & 0          &  800.00385 &  301.5333  &  301.5333 \\\\\n",
       "\t Susan      & 0          &    0.00000 &    0.0000  &    0.0000 \\\\\n",
       "\t Anne       & 0          &   21.27154 &  117.0600  &  117.0600 \\\\\n",
       "\t Stephanie  & 0          &    0.00000 &    0.0000  &    0.0000 \\\\\n",
       "\t Andrew     & 0          &   93.15077 &  310.1450  &  310.1450 \\\\\n",
       "\t Ryan       & 1          &    0.00000 &    0.0000  &    0.0000 \\\\\n",
       "\t Matthew    & 1          &  408.21616 &  112.8417  &  112.8417 \\\\\n",
       "\t Claire     & 1          & 1370.13540 &  797.5024  &  792.5024 \\\\\n",
       "\t Beth       & 0          &   28.82077 &  192.2150  &  192.2150 \\\\\n",
       "\t Dan        & 1          &  254.14308 &  295.8675  &  295.8675 \\\\\n",
       "\t Paul       & 0          &    0.00000 &    0.0000  &    0.0000 \\\\\n",
       "\t Haley      & 0          &  590.01306 &  414.6858  &  364.6858 \\\\\n",
       "\t King       & 0          &  373.18616 & 1310.0459  & 1310.0459 \\\\\n",
       "\t Douglas    & 1          &  302.05231 &  205.1008  &  205.1008 \\\\\n",
       "\\end{tabular}\n"
      ],
      "text/markdown": [
       "\n",
       "| name | participate | baseline | po_control | po_treat |\n",
       "|---|---|---|---|---|\n",
       "| Alan       | 0          | 5125.63130 | 3035.8135  | 3035.8135  |\n",
       "| Ellen      | 0          |   86.21538 |  114.8225  |  114.8225  |\n",
       "| Will       | 0          |  588.56689 |  634.4608  |  704.4608  |\n",
       "| Sue        | 0          |  535.53156 |  611.7972  |  611.7972  |\n",
       "| Andy       | 0          |  585.91687 |  128.5700  |  128.5700  |\n",
       "| Bas        | 0          |  170.43001 |  614.9316  |  614.9316  |\n",
       "| Milo       | 0          |  800.00385 |  301.5333  |  301.5333  |\n",
       "| Susan      | 0          |    0.00000 |    0.0000  |    0.0000  |\n",
       "| Anne       | 0          |   21.27154 |  117.0600  |  117.0600  |\n",
       "| Stephanie  | 0          |    0.00000 |    0.0000  |    0.0000  |\n",
       "| Andrew     | 0          |   93.15077 |  310.1450  |  310.1450  |\n",
       "| Ryan       | 1          |    0.00000 |    0.0000  |    0.0000  |\n",
       "| Matthew    | 1          |  408.21616 |  112.8417  |  112.8417  |\n",
       "| Claire     | 1          | 1370.13540 |  797.5024  |  792.5024  |\n",
       "| Beth       | 0          |   28.82077 |  192.2150  |  192.2150  |\n",
       "| Dan        | 1          |  254.14308 |  295.8675  |  295.8675  |\n",
       "| Paul       | 0          |    0.00000 |    0.0000  |    0.0000  |\n",
       "| Haley      | 0          |  590.01306 |  414.6858  |  364.6858  |\n",
       "| King       | 0          |  373.18616 | 1310.0459  | 1310.0459  |\n",
       "| Douglas    | 1          |  302.05231 |  205.1008  |  205.1008  |\n",
       "\n"
      ],
      "text/plain": [
       "   name      participate baseline   po_control po_treat \n",
       "1  Alan      0           5125.63130 3035.8135  3035.8135\n",
       "2  Ellen     0             86.21538  114.8225   114.8225\n",
       "3  Will      0            588.56689  634.4608   704.4608\n",
       "4  Sue       0            535.53156  611.7972   611.7972\n",
       "5  Andy      0            585.91687  128.5700   128.5700\n",
       "6  Bas       0            170.43001  614.9316   614.9316\n",
       "7  Milo      0            800.00385  301.5333   301.5333\n",
       "8  Susan     0              0.00000    0.0000     0.0000\n",
       "9  Anne      0             21.27154  117.0600   117.0600\n",
       "10 Stephanie 0              0.00000    0.0000     0.0000\n",
       "11 Andrew    0             93.15077  310.1450   310.1450\n",
       "12 Ryan      1              0.00000    0.0000     0.0000\n",
       "13 Matthew   1            408.21616  112.8417   112.8417\n",
       "14 Claire    1           1370.13540  797.5024   792.5024\n",
       "15 Beth      0             28.82077  192.2150   192.2150\n",
       "16 Dan       1            254.14308  295.8675   295.8675\n",
       "17 Paul      0              0.00000    0.0000     0.0000\n",
       "18 Haley     0            590.01306  414.6858   364.6858\n",
       "19 King      0            373.18616 1310.0459  1310.0459\n",
       "20 Douglas   1            302.05231  205.1008   205.1008"
      ]
     },
     "metadata": {},
     "output_type": "display_data"
    }
   ],
   "source": [
    "#RUN THIS CELL\n",
    "library(testthat)\n",
    "# Read in the data.\n",
    "data <- read.csv('ps3_wellness_with_POs.csv', stringsAsFactors = F)\n",
    "data "
   ]
  },
  {
   "cell_type": "code",
   "execution_count": 21,
   "metadata": {},
   "outputs": [
    {
     "data": {
      "text/html": [
       "0.75"
      ],
      "text/latex": [
       "0.75"
      ],
      "text/markdown": [
       "0.75"
      ],
      "text/plain": [
       "[1] 0.75"
      ]
     },
     "metadata": {},
     "output_type": "display_data"
    }
   ],
   "source": [
    "#this is the difference of means! \n",
    "mean(data$po_treat)-mean(data$po_control)"
   ]
  },
  {
   "cell_type": "markdown",
   "metadata": {},
   "source": [
    "### 1.2 Average Treatment Effect\n",
    "We will now create a simulated data that only has one of the potential outcomes.\n",
    "\n",
    "For instance, we will ONLY KNOW Alan's control outcome, we will ONLY know Ellen's treat outcome, and so on.\n",
    "\n",
    "When we say `Average Treatment Effect`, it usually refers to the difference in means of outcome in treatment and control groups for one sample. "
   ]
  },
  {
   "cell_type": "markdown",
   "metadata": {},
   "source": [
    "To simulate that on R, \n",
    "\n",
    "Let's create a random vector that consists of `TRUE` and `FALSE` using the `sample()` function. **You do not have to know how to generate something like this yourself**, so focus more on understanding what the code is doing, ex. what list or vector is the code creating etc."
   ]
  },
  {
   "cell_type": "code",
   "execution_count": 24,
   "metadata": {},
   "outputs": [
    {
     "data": {
      "text/html": [
       "<ol class=list-inline>\n",
       "\t<li>TRUE</li>\n",
       "\t<li>TRUE</li>\n",
       "\t<li>TRUE</li>\n",
       "\t<li>FALSE</li>\n",
       "\t<li>TRUE</li>\n",
       "\t<li>FALSE</li>\n",
       "\t<li>FALSE</li>\n",
       "\t<li>FALSE</li>\n",
       "\t<li>TRUE</li>\n",
       "\t<li>TRUE</li>\n",
       "\t<li>FALSE</li>\n",
       "\t<li>FALSE</li>\n",
       "\t<li>FALSE</li>\n",
       "\t<li>TRUE</li>\n",
       "\t<li>FALSE</li>\n",
       "\t<li>TRUE</li>\n",
       "\t<li>FALSE</li>\n",
       "\t<li>TRUE</li>\n",
       "\t<li>TRUE</li>\n",
       "\t<li>TRUE</li>\n",
       "</ol>\n"
      ],
      "text/latex": [
       "\\begin{enumerate*}\n",
       "\\item TRUE\n",
       "\\item TRUE\n",
       "\\item TRUE\n",
       "\\item FALSE\n",
       "\\item TRUE\n",
       "\\item FALSE\n",
       "\\item FALSE\n",
       "\\item FALSE\n",
       "\\item TRUE\n",
       "\\item TRUE\n",
       "\\item FALSE\n",
       "\\item FALSE\n",
       "\\item FALSE\n",
       "\\item TRUE\n",
       "\\item FALSE\n",
       "\\item TRUE\n",
       "\\item FALSE\n",
       "\\item TRUE\n",
       "\\item TRUE\n",
       "\\item TRUE\n",
       "\\end{enumerate*}\n"
      ],
      "text/markdown": [
       "1. TRUE\n",
       "2. TRUE\n",
       "3. TRUE\n",
       "4. FALSE\n",
       "5. TRUE\n",
       "6. FALSE\n",
       "7. FALSE\n",
       "8. FALSE\n",
       "9. TRUE\n",
       "10. TRUE\n",
       "11. FALSE\n",
       "12. FALSE\n",
       "13. FALSE\n",
       "14. TRUE\n",
       "15. FALSE\n",
       "16. TRUE\n",
       "17. FALSE\n",
       "18. TRUE\n",
       "19. TRUE\n",
       "20. TRUE\n",
       "\n",
       "\n"
      ],
      "text/plain": [
       " [1]  TRUE  TRUE  TRUE FALSE  TRUE FALSE FALSE FALSE  TRUE  TRUE FALSE FALSE\n",
       "[13] FALSE  TRUE FALSE  TRUE FALSE  TRUE  TRUE  TRUE"
      ]
     },
     "metadata": {},
     "output_type": "display_data"
    }
   ],
   "source": [
    "set.seed(123)\n",
    "treat <- sample(c(TRUE,FALSE),20,replace=TRUE) #this tells R to sample 20 items from a set called c(TRUE, FALSE), \n",
    "# and replace=TRUE means out of the 20 random draw, the same outcomes can reappear (otherwise we can't make a list of 20 elements!)\n",
    "\n",
    "#Let's see what this vector looks like\n",
    "treat"
   ]
  },
  {
   "cell_type": "markdown",
   "metadata": {},
   "source": [
    "Let's input the `treat` vector in the `ifelse` function to create an `outcome` variable"
   ]
  },
  {
   "cell_type": "code",
   "execution_count": 18,
   "metadata": {},
   "outputs": [
    {
     "data": {
      "text/html": [
       "<ol class=list-inline>\n",
       "\t<li>3035.8135</li>\n",
       "\t<li>114.8225</li>\n",
       "\t<li>704.46082</li>\n",
       "\t<li>611.79724</li>\n",
       "\t<li>128.57001</li>\n",
       "\t<li>614.93164</li>\n",
       "\t<li>301.53333</li>\n",
       "\t<li>0</li>\n",
       "\t<li>117.06001</li>\n",
       "\t<li>0</li>\n",
       "\t<li>310.14499</li>\n",
       "\t<li>0</li>\n",
       "\t<li>112.84167</li>\n",
       "\t<li>792.50244</li>\n",
       "\t<li>192.215</li>\n",
       "\t<li>295.86749</li>\n",
       "\t<li>0</li>\n",
       "\t<li>364.68582</li>\n",
       "\t<li>1310.0459</li>\n",
       "\t<li>205.10083</li>\n",
       "</ol>\n"
      ],
      "text/latex": [
       "\\begin{enumerate*}\n",
       "\\item 3035.8135\n",
       "\\item 114.8225\n",
       "\\item 704.46082\n",
       "\\item 611.79724\n",
       "\\item 128.57001\n",
       "\\item 614.93164\n",
       "\\item 301.53333\n",
       "\\item 0\n",
       "\\item 117.06001\n",
       "\\item 0\n",
       "\\item 310.14499\n",
       "\\item 0\n",
       "\\item 112.84167\n",
       "\\item 792.50244\n",
       "\\item 192.215\n",
       "\\item 295.86749\n",
       "\\item 0\n",
       "\\item 364.68582\n",
       "\\item 1310.0459\n",
       "\\item 205.10083\n",
       "\\end{enumerate*}\n"
      ],
      "text/markdown": [
       "1. 3035.8135\n",
       "2. 114.8225\n",
       "3. 704.46082\n",
       "4. 611.79724\n",
       "5. 128.57001\n",
       "6. 614.93164\n",
       "7. 301.53333\n",
       "8. 0\n",
       "9. 117.06001\n",
       "10. 0\n",
       "11. 310.14499\n",
       "12. 0\n",
       "13. 112.84167\n",
       "14. 792.50244\n",
       "15. 192.215\n",
       "16. 295.86749\n",
       "17. 0\n",
       "18. 364.68582\n",
       "19. 1310.0459\n",
       "20. 205.10083\n",
       "\n",
       "\n"
      ],
      "text/plain": [
       " [1] 3035.8135  114.8225  704.4608  611.7972  128.5700  614.9316  301.5333\n",
       " [8]    0.0000  117.0600    0.0000  310.1450    0.0000  112.8417  792.5024\n",
       "[15]  192.2150  295.8675    0.0000  364.6858 1310.0459  205.1008"
      ]
     },
     "metadata": {},
     "output_type": "display_data"
    }
   ],
   "source": [
    "outcome <- ifelse(treat==TRUE,data$po_treat,data$po_control)\n",
    "outcome"
   ]
  },
  {
   "cell_type": "code",
   "execution_count": 28,
   "metadata": {},
   "outputs": [
    {
     "data": {
      "text/html": [
       "<table>\n",
       "<thead><tr><th scope=col>outcome</th><th scope=col>treat</th></tr></thead>\n",
       "<tbody>\n",
       "\t<tr><td>3035.8135</td><td>1        </td></tr>\n",
       "\t<tr><td> 114.8225</td><td>0        </td></tr>\n",
       "\t<tr><td> 704.4608</td><td>1        </td></tr>\n",
       "\t<tr><td> 611.7972</td><td>0        </td></tr>\n",
       "\t<tr><td> 128.5700</td><td>0        </td></tr>\n",
       "\t<tr><td> 614.9316</td><td>1        </td></tr>\n",
       "\t<tr><td> 301.5333</td><td>1        </td></tr>\n",
       "\t<tr><td>   0.0000</td><td>1        </td></tr>\n",
       "\t<tr><td> 117.0600</td><td>1        </td></tr>\n",
       "\t<tr><td>   0.0000</td><td>0        </td></tr>\n",
       "</tbody>\n",
       "</table>\n"
      ],
      "text/latex": [
       "\\begin{tabular}{r|ll}\n",
       " outcome & treat\\\\\n",
       "\\hline\n",
       "\t 3035.8135 & 1        \\\\\n",
       "\t  114.8225 & 0        \\\\\n",
       "\t  704.4608 & 1        \\\\\n",
       "\t  611.7972 & 0        \\\\\n",
       "\t  128.5700 & 0        \\\\\n",
       "\t  614.9316 & 1        \\\\\n",
       "\t  301.5333 & 1        \\\\\n",
       "\t    0.0000 & 1        \\\\\n",
       "\t  117.0600 & 1        \\\\\n",
       "\t    0.0000 & 0        \\\\\n",
       "\\end{tabular}\n"
      ],
      "text/markdown": [
       "\n",
       "| outcome | treat |\n",
       "|---|---|\n",
       "| 3035.8135 | 1         |\n",
       "|  114.8225 | 0         |\n",
       "|  704.4608 | 1         |\n",
       "|  611.7972 | 0         |\n",
       "|  128.5700 | 0         |\n",
       "|  614.9316 | 1         |\n",
       "|  301.5333 | 1         |\n",
       "|    0.0000 | 1         |\n",
       "|  117.0600 | 1         |\n",
       "|    0.0000 | 0         |\n",
       "\n"
      ],
      "text/plain": [
       "   outcome   treat\n",
       "1  3035.8135 1    \n",
       "2   114.8225 0    \n",
       "3   704.4608 1    \n",
       "4   611.7972 0    \n",
       "5   128.5700 0    \n",
       "6   614.9316 1    \n",
       "7   301.5333 1    \n",
       "8     0.0000 1    \n",
       "9   117.0600 1    \n",
       "10    0.0000 0    "
      ]
     },
     "metadata": {},
     "output_type": "display_data"
    }
   ],
   "source": [
    "\n",
    "#each rows would have either of these two data points--po_control or po_treat.\n",
    "sim1 <- data.frame(cbind(outcome,treat))\n",
    "sim1\n",
    "\n",
    "#again, this is how data in the real world looks like. It has only one of either potential outcomes under treatment or control."
   ]
  },
  {
   "cell_type": "code",
   "execution_count": 29,
   "metadata": {},
   "outputs": [
    {
     "data": {
      "text/html": [
       "0"
      ],
      "text/latex": [
       "0"
      ],
      "text/markdown": [
       "0"
      ],
      "text/plain": [
       "[1] 0"
      ]
     },
     "metadata": {},
     "output_type": "display_data"
    }
   ],
   "source": [
    "sim1 <- data.frame(cbind(outcome,treat)) #bind the two lists into a dataframe\n",
    "ATE <- mean(sim1$outcome|sim1$treat==TRUE)-mean(sim1$outcome|sim1$treat==FALSE) #and calculate the average treatment effect\n",
    "ATE"
   ]
  },
  {
   "cell_type": "markdown",
   "metadata": {},
   "source": [
    "Do the process again by re-creating a dataframe with only either PO_control or PO_treat, and re-calculate the ATE.\n",
    "\n",
    "Team up with a partner (or get in your groups). One person should try running the below code multiple times, another person should record the outpus.\n",
    "\n",
    "Do you see that the value sort of averages around 0.75?\n"
   ]
  },
  {
   "cell_type": "code",
   "execution_count": 60,
   "metadata": {},
   "outputs": [
    {
     "data": {
      "text/html": [
       "-0.1"
      ],
      "text/latex": [
       "-0.1"
      ],
      "text/markdown": [
       "-0.1"
      ],
      "text/plain": [
       "[1] -0.1"
      ]
     },
     "metadata": {},
     "output_type": "display_data"
    }
   ],
   "source": [
    "#run this code multiple times and record the outputs you get\n",
    "treat <- sample(c(TRUE,FALSE),20,replace=TRUE)\n",
    "outcome <- ifelse(treat==TRUE,data$po_treat,data$po_control)\n",
    "sim1 <- data.frame(cbind(outcome,treat))\n",
    "ATE <- mean(sim1$outcome|sim1$treat==TRUE)-mean(sim1$outcome|sim1$treat==FALSE)\n",
    "ATE"
   ]
  },
  {
   "cell_type": "markdown",
   "metadata": {},
   "source": [
    "Again, this is how the 'true' or 'ideal' treatment effect and 'Average Treatment Effect' are different. The Average Treatment Effect approximates the true treatment effect."
   ]
  },
  {
   "cell_type": "markdown",
   "metadata": {},
   "source": [
    "## 2. Exercise: Field Experiment"
   ]
  },
  {
   "cell_type": "markdown",
   "metadata": {},
   "source": [
    "We will now come back to the contact-theory field experiment you were shown in last week's section. This research is titled \"Building social cohesion between Christians and Muslims through soccer in post-ISIS Iraq\" by Salma Mousa. \n",
    "\n",
    "While we looked at the argument of the paper and main findings last week, we will look at the actual data and eventually replicate the research's findings. \n",
    "\n",
    "The study's research question, in a broad level, is **whether intergroup contact leads to better intergroup relations**, in accordance with Gordon Allport's Contact Theory. The researcher studied 28 amateur soccer teams in Northern Iraq whose members of the teams were all Christian, and invited them to accept three additional members to their team. To half of those teams, the researcher matched the teams with three Muslim members to the team. To the other half, the researcher provided three additional members who were Christian. \n",
    "\n",
    "If you were to conduct your own research, today's exercise would be the step you would need to take after your study has been conducted (ex. survey responses collected), data has been gathered, and cleaned.\n",
    "\n",
    "We will be looking at the data of this research."
   ]
  },
  {
   "attachments": {
    "image-2.png": {
     "image/png": "[encoded data removed]"
    }
   },
   "cell_type": "markdown",
   "metadata": {},
   "source": [
    "![image-2.png](attachment:image-2.png)\n"
   ]
  },
  {
   "cell_type": "code",
   "execution_count": null,
   "metadata": {},
   "outputs": [],
   "source": [
    "# Let's load the data by running the following code chunk.\n",
    "contact <- readRDS(\"Data/mousa/contact.RData\")\n",
    "\n",
    "head(contact) # let's look at top several rows\n",
    "\n"
   ]
  },
  {
   "cell_type": "code",
   "execution_count": null,
   "metadata": {},
   "outputs": [],
   "source": [
    "# Some bonus commands useful for assessing the size of the data\n",
    "dim(contact) # returns the 'dimensions' of the dataframe. for this one it has 232 rows and 57 columns! \n",
    "nrow(contact) # returns just the number of rows\n",
    "length(contact) # the number of columns\n",
    "ncol(contact) #also, the number of columns \n",
    "colnames(contact)"
   ]
  },
  {
   "cell_type": "markdown",
   "metadata": {},
   "source": [
    "This dataset includes many variables, but let's focus on just a few for now:\n"
   ]
  },
  {
   "cell_type": "code",
   "execution_count": null,
   "metadata": {},
   "outputs": [],
   "source": [
    "contact <- contact[,c(\"team\",\"treated\",\"train_t1\",\"voted_muslim_extra\",\"own_group_preference\")]\n",
    "contact <- na.omit(contact)\n",
    "head(contact,30)"
   ]
  },
  {
   "cell_type": "markdown",
   "metadata": {},
   "source": [
    "Research design: Researchers contacted existing amateur soccer teams in two northern Iraqi cities comprised of Christian members to partake in a community building program by admitting a few additional soccer players among the local displaced persons to their team. In this process, a total of 28 teams participated, with 14 teams receiving additional players who were Muslim, and the remaining 14 teams receiving additional playesr who were Christian. \n",
    "\n",
    "1. Independent Variable (cause / X):\n",
    "\n",
    "`treated` = Whether individual was assigned to a mixed-member team\n",
    "- 1 = Teams that have received three additional players who were Muslim\n",
    "- 0 = Teams that have received three additional players who were Christian\n",
    "\n",
    "\n",
    ".\n",
    "\n",
    "2. Dependent Variables (effect / outcome variables / Y):\n",
    "\n",
    "The following are behavioral measures--the researchers followed up with the participants 6 months after the study to assess whether the subjects' behavior varied between the treatment groups.\n",
    "\n",
    "`train_t1` =  Training with Muslims 6 months post-intervention (train_t1)*\n",
    "- 0 = yes\n",
    "- 1 = no\n",
    "\n",
    "`voted_muslim_extra` = Voted for Muslim added player to receive sportsmanship award\n",
    "\n",
    "- 0 = voted for added Muslim player\n",
    "- 1 = voted for added Christian player\n",
    "- NA = did not vote\n",
    "\n",
    "`own_group_preference` = Registered for a mixed team next season \n",
    "- 0 = prefer being on a team with one’s own community\n",
    "- 1 = “would not mind” or “prefer” being on a mixed team next season\n",
    "\n",
    "\n",
    "The paper can be found at: https://www.science.org/doi/10.1126/science.abb3153\n"
   ]
  },
  {
   "cell_type": "markdown",
   "metadata": {},
   "source": [
    "### 2.2. Knowledge Check: \n",
    "#### 2.2.1. What's the causal argument here? "
   ]
  },
  {
   "cell_type": "markdown",
   "metadata": {},
   "source": [
    "(write your response below--to edit a code/text chunk, double click it) \n",
    "\n",
    "Remember, a causal argument has two structures, a cause and an effect, and there is a directionality. Cause leads to effect."
   ]
  },
  {
   "cell_type": "markdown",
   "metadata": {},
   "source": [
    "The argument of the article is: "
   ]
  },
  {
   "cell_type": "markdown",
   "metadata": {},
   "source": [
    "#### 2.2.2. What are the potential outcomes? What is the unit of analysis?"
   ]
  },
  {
   "cell_type": "markdown",
   "metadata": {},
   "source": [
    "Potential outcomes:\n",
    "\n",
    "Unit of analysis: "
   ]
  },
  {
   "cell_type": "markdown",
   "metadata": {},
   "source": [
    "### 1. Advanced\n",
    "#### 1.4.1. How are experiments different from observational studies?\n",
    "\n",
    "This study was an experiment. But how would the study have been different if there was no random assignment--i.e. the researcher simply looked for already-existing mixed teams and non-mixed teams? This means that team membership were not randomly assigned. How might the result differ? \n",
    "- How does an \"observational\" study look like, and how is it different from an experiment?\n",
    "- What is a potential confounding factor (i.e. what would be an omitted variable)? \n",
    "- Suppose that there was no randomization. Would you see any possibility for reverse causality in the argument \"more contact leads to better intergroup relations\"?"
   ]
  },
  {
   "cell_type": "code",
   "execution_count": null,
   "metadata": {},
   "outputs": [],
   "source": []
  },
  {
   "cell_type": "markdown",
   "metadata": {},
   "source": [
    "#### 1.4.2. Imperfect randomization...\n",
    "\n",
    "For most studies, we assume that randomization was carried out 'perfectly' by the computer, researcher, coin toss, etc.. but what if it turns out that even after randomly dividing two groups into treatment and control, you find out that there are confounding factors (ex. there are more female participants in the treatment group, and more male participants in the treatment group)?\n"
   ]
  },
  {
   "cell_type": "markdown",
   "metadata": {},
   "source": []
  },
  {
   "cell_type": "markdown",
   "metadata": {},
   "source": [
    "### 1.5. Bonus: indexing a dataframe"
   ]
  },
  {
   "cell_type": "markdown",
   "metadata": {},
   "source": [
    "The raw data often has many columns--more than you want and need! If you want to just look at a few variables, say, your treatment and outcome variables, you can do so by \"indexing\".\n",
    "\n",
    "To index rows and columns, add brackets next to your dataframe object: `contact[]`, and input two vectors: `contact[row index, column index]` one for rows, the other for columns."
   ]
  },
  {
   "cell_type": "code",
   "execution_count": 61,
   "metadata": {},
   "outputs": [
    {
     "ename": "ERROR",
     "evalue": "Error in eval(expr, envir, enclos): 객체 'contact'를 찾을 수 없습니다\n",
     "output_type": "error",
     "traceback": [
      "Error in eval(expr, envir, enclos): 객체 'contact'를 찾을 수 없습니다\nTraceback:\n"
     ]
    }
   ],
   "source": [
    "contact[c(1:10),c(\"treated\",\"own_group_preference\",\"voted_muslim_extra\",\"train_t1\")]\n",
    "\n",
    "#can you tell which is the row index, and which is the column index?"
   ]
  }
 ],
 "metadata": {
  "kernelspec": {
   "display_name": "R",
   "language": "R",
   "name": "ir"
  },
  "language_info": {
   "codemirror_mode": "r",
   "file_extension": ".r",
   "mimetype": "text/x-r-source",
   "name": "R",
   "pygments_lexer": "r",
   "version": "3.6.1"
  }
 },
 "nbformat": 4,
 "nbformat_minor": 4
}

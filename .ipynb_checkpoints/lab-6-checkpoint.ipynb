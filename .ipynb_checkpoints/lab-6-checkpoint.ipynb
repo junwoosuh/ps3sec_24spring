{
 "cells": [
  {
   "cell_type": "markdown",
   "metadata": {},
   "source": [
    "# PS3 Discussion: Quantifying Uncertainty with Standard Errors and p-values\n",
    "\n",
    "Let's explore standard deviation (SD) and standard error (SE) by the example of a die and a coin. "
   ]
  },
  {
   "cell_type": "code",
   "execution_count": null,
   "metadata": {},
   "outputs": [],
   "source": [
    "# creating the sides of a die\n",
    "dice <- c(1:6)"
   ]
  },
  {
   "cell_type": "code",
   "execution_count": null,
   "metadata": {},
   "outputs": [],
   "source": [
    "# Let's see the distribution of sides if we roll a die 100 times\n",
    "hundred_rolls <- sample(dice, 100, replace = TRUE) # What is the sample size here?\n",
    "hist(hundred_rolls, col = \"gray\", breaks = c(0.5:6.5))\n",
    "\n",
    "# Does this look like what you expect? Why? "
   ]
  },
  {
   "cell_type": "code",
   "execution_count": null,
   "metadata": {},
   "outputs": [],
   "source": [
    "# What's the standard deviation of our 100 rolls? What function should we use?\n",
    "NULL\n",
    "\n",
    "# What's the mean of 100 rolls? What function should we use?\n",
    "NULL\n"
   ]
  },
  {
   "cell_type": "markdown",
   "metadata": {},
   "source": [
    "## Quick Check 1\n",
    "\n",
    "What is the standard error of the `hundred_rolls` sample above?\n",
    "\n",
    "Recall: standard error is `standard deviation of the sample / square root of the sample size`"
   ]
  },
  {
   "cell_type": "code",
   "execution_count": null,
   "metadata": {},
   "outputs": [],
   "source": [
    "standard_error <- NULL\n",
    "standard_error"
   ]
  },
  {
   "cell_type": "code",
   "execution_count": null,
   "metadata": {},
   "outputs": [],
   "source": [
    "# Let's do simulations: take 100 rolls for 1000 times, and calculate the mean for each 100 rolls\n",
    "# Just run the codes below\n",
    "\n",
    "sample_means <- array()\n",
    "\n",
    "for(i in c(1:1000)){\n",
    "    new_hundred_rolls <- sample(dice, 100, replace = TRUE)\n",
    "    sample_means[i] <- mean(new_hundred_rolls)\n",
    "}"
   ]
  },
  {
   "cell_type": "code",
   "execution_count": null,
   "metadata": {},
   "outputs": [],
   "source": [
    "# Distribution of sample means\n",
    "hist(sample_means, col = \"gray\")\n",
    "\n",
    "# What's different about this graph versus the first?"
   ]
  },
  {
   "cell_type": "code",
   "execution_count": null,
   "metadata": {},
   "outputs": [],
   "source": [
    "# SE = SD of the sample mean\n",
    "sd(sample_means)\n",
    "\n",
    "# Compare to your mathematical calculation from earlier:\n",
    "standard_error\n",
    "\n",
    "# Notice the similarity! But why are they different?"
   ]
  },
  {
   "cell_type": "markdown",
   "metadata": {},
   "source": [
    "## Let's think about p-values\n",
    "\n",
    "Imagine we have a coin. We flip it 10 times, and get 9 heads out of 10 flips. That's weird, because we thought the coin is fair (i.e., 50% of the flips should be heads).\n",
    "\n",
    "We want to know: is the coin fair or biased towards heads? "
   ]
  },
  {
   "cell_type": "markdown",
   "metadata": {},
   "source": [
    "## Quick Check 2:\n",
    "\n",
    "Null: \"The coin is fair and the probability of getting heads or tails is the same. Therefore, if I flipped a coin 10 times, 5 of the flips should be heads, on average.\" \n",
    "\n",
    "What is a reasonable alternative hypothesis? "
   ]
  },
  {
   "cell_type": "code",
   "execution_count": null,
   "metadata": {},
   "outputs": [],
   "source": [
    "# Flip a fair coin; set 1 to be heads, 0 to be tails\n",
    "coin <- c(0, 1)"
   ]
  },
  {
   "cell_type": "code",
   "execution_count": null,
   "metadata": {},
   "outputs": [],
   "source": [
    "# Flip this coin 10 times, 1000 times. Assuming the coin is fair\n",
    "# Let's find the number of heads. Just run the codes below\n",
    "\n",
    "num_heads <- array()\n",
    "\n",
    "for(i in c(1:1000)){\n",
    "    heads <- sample(coin, 10, replace = TRUE)\n",
    "    num_heads[i] <- sum(heads) \n",
    "}"
   ]
  },
  {
   "cell_type": "code",
   "execution_count": null,
   "metadata": {},
   "outputs": [],
   "source": [
    "hist(num_heads, breaks = c(0:11), col = \"gray\")\n",
    "abline(v = 9, col = \"red\", lwd = 3)"
   ]
  },
  {
   "cell_type": "markdown",
   "metadata": {},
   "source": [
    "**What does the histogram tell us about the hypotheses?**\n",
    "\n",
    "You can confirm your thoughts by calculating the p-value. \n",
    "\n",
    "*Hint:* `num_heads` is a list of numbers of the potential outcomes of flipping a coin, assuming the coin was fair. More extreme, in this case, means greater than the observed value. "
   ]
  },
  {
   "cell_type": "code",
   "execution_count": null,
   "metadata": {},
   "outputs": [],
   "source": [
    "sum(num_heads >= 9) / 1000"
   ]
  },
  {
   "cell_type": "markdown",
   "metadata": {},
   "source": [
    "**Let's interpret the data:**\n",
    "\n",
    "(1) What does the p-value mean in context?\n",
    "\n",
    "(2) What does it tell us about the coin? Is it fair or unfair? \n",
    "\n",
    "Talk about these two questions with your neighbors for 3min before we discuss as a class."
   ]
  },
  {
   "cell_type": "markdown",
   "metadata": {},
   "source": [
    "This process of using p-values (and by association, t-scores/standard error) lets us account for the uncertainty caused by random chance (e.g. if we repeated the experiment many times, what are the various potential outcomes that could happen?). \n",
    "\n",
    "In practice, when we work with real data, we'll use the `difference_in_means` function to calculate the effect, t-score, standard error, and p-value. This exercise was simply to show the statistical intuition behind these processes!"
   ]
  }
 ],
 "metadata": {
  "kernelspec": {
   "display_name": "R",
   "language": "R",
   "name": "ir"
  },
  "language_info": {
   "codemirror_mode": "r",
   "file_extension": ".r",
   "mimetype": "text/x-r-source",
   "name": "R",
   "pygments_lexer": "r",
   "version": "3.6.1"
  }
 },
 "nbformat": 4,
 "nbformat_minor": 4
}

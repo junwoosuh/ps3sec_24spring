{
 "cells": [
  {
   "cell_type": "markdown",
   "metadata": {},
   "source": [
    "# PS3 Discussion: Quantifying Uncertainty with Standard Errors and p-values\n",
    "\n",
    "Let's explore standard deviation (SD) and standard error (SE) by the example of a die and a coin. "
   ]
  },
  {
   "cell_type": "code",
   "execution_count": null,
   "metadata": {},
   "outputs": [],
   "source": []
  },
  {
   "cell_type": "code",
   "execution_count": null,
   "metadata": {},
   "outputs": [],
   "source": []
  },
  {
   "cell_type": "code",
   "execution_count": 1,
   "metadata": {},
   "outputs": [],
   "source": [
    "# creating the sides of a die\n",
    "dice <- c(1:6)"
   ]
  },
  {
   "cell_type": "code",
   "execution_count": 9,
   "metadata": {},
   "outputs": [
    {
     "data": {
      "image/png": "[encoded data removed]",
      "text/plain": [
       "Plot with title “Histogram of hundred_rolls”"
      ]
     },
     "metadata": {
      "image/png": {
       "height": 420,
       "width": 420
      }
     },
     "output_type": "display_data"
    }
   ],
   "source": [
    "# Let's see the distribution of sides if we roll a die 100 times\n",
    "hundred_rolls <- sample(dice, 100, replace = TRUE) # What is the sample size here?\n",
    "hist(hundred_rolls, col = \"gray\", breaks = c(0.5:6.5))\n",
    "\n",
    "# Does this look like what you expect? Why? "
   ]
  },
  {
   "cell_type": "code",
   "execution_count": 10,
   "metadata": {},
   "outputs": [
    {
     "data": {
      "text/html": [
       "1.65437894600049"
      ],
      "text/latex": [
       "1.65437894600049"
      ],
      "text/markdown": [
       "1.65437894600049"
      ],
      "text/plain": [
       "[1] 1.654379"
      ]
     },
     "metadata": {},
     "output_type": "display_data"
    },
    {
     "data": {
      "text/html": [
       "3.52"
      ],
      "text/latex": [
       "3.52"
      ],
      "text/markdown": [
       "3.52"
      ],
      "text/plain": [
       "[1] 3.52"
      ]
     },
     "metadata": {},
     "output_type": "display_data"
    }
   ],
   "source": [
    "# What's the standard deviation of our 100 rolls? What function should we use?\n",
    "sd(hundred_rolls)\n",
    "\n",
    "# What's the mean of 100 rolls? What function should we use?\n",
    "mean(hundred_rolls)"
   ]
  },
  {
   "cell_type": "markdown",
   "metadata": {},
   "source": [
    "## Quick Check 1\n",
    "\n",
    "What is the standard error of the `hundred_rolls` sample above?\n",
    "\n",
    "Recall: standard error is `standard deviation of the sample / square root of the sample size`"
   ]
  },
  {
   "cell_type": "code",
   "execution_count": 11,
   "metadata": {},
   "outputs": [
    {
     "data": {
      "text/html": [
       "0.165437894600049"
      ],
      "text/latex": [
       "0.165437894600049"
      ],
      "text/markdown": [
       "0.165437894600049"
      ],
      "text/plain": [
       "[1] 0.1654379"
      ]
     },
     "metadata": {},
     "output_type": "display_data"
    }
   ],
   "source": [
    "standard_error <- sd(hundred_rolls)/sqrt(100)\n",
    "standard_error"
   ]
  },
  {
   "cell_type": "code",
   "execution_count": 12,
   "metadata": {},
   "outputs": [],
   "source": [
    "# Let's do simulations: take 100 rolls for 1000 times, and calculate the mean for each 100 rolls\n",
    "# Just run the codes below\n",
    "\n",
    "sample_means <- array()\n",
    "\n",
    "for(i in c(1:1000)){\n",
    "    new_hundred_rolls <- sample(dice, 100, replace = TRUE)\n",
    "    sample_means[i] <- mean(new_hundred_rolls)\n",
    "}"
   ]
  },
  {
   "cell_type": "code",
   "execution_count": 13,
   "metadata": {},
   "outputs": [
    {
     "data": {
      "image/png": "[encoded data removed]",
      "text/plain": [
       "Plot with title “Histogram of sample_means”"
      ]
     },
     "metadata": {
      "image/png": {
       "height": 420,
       "width": 420
      }
     },
     "output_type": "display_data"
    }
   ],
   "source": [
    "# Distribution of sample means\n",
    "hist(sample_means, col = \"gray\")\n",
    "\n",
    "# What's different about this graph versus the first?"
   ]
  },
  {
   "cell_type": "code",
   "execution_count": 14,
   "metadata": {},
   "outputs": [
    {
     "data": {
      "text/html": [
       "0.16903715763305"
      ],
      "text/latex": [
       "0.16903715763305"
      ],
      "text/markdown": [
       "0.16903715763305"
      ],
      "text/plain": [
       "[1] 0.1690372"
      ]
     },
     "metadata": {},
     "output_type": "display_data"
    },
    {
     "data": {
      "text/html": [
       "0.165437894600049"
      ],
      "text/latex": [
       "0.165437894600049"
      ],
      "text/markdown": [
       "0.165437894600049"
      ],
      "text/plain": [
       "[1] 0.1654379"
      ]
     },
     "metadata": {},
     "output_type": "display_data"
    }
   ],
   "source": [
    "# SE = SD of the sample mean\n",
    "sd(sample_means) \n",
    "\n",
    "# Compare to your mathematical calculation from earlier:\n",
    "standard_error\n",
    "\n",
    "# Notice the similarity! But why are they different?"
   ]
  },
  {
   "cell_type": "markdown",
   "metadata": {},
   "source": [
    "## Let's think about p-values\n",
    "\n",
    "Imagine we have a coin. We flip it 10 times, and get 9 heads out of 10 flips. That's weird, because we thought the coin is fair (i.e., 50% of the flips should be heads).\n",
    "\n",
    "We want to know: is the coin fair or biased towards heads? "
   ]
  },
  {
   "cell_type": "markdown",
   "metadata": {},
   "source": [
    "## Quick Check 2:\n",
    "\n",
    "Null: \"The coin is fair and the probability of getting heads or tails is the same. Therefore, if I flipped a coin 10 times, 5 of the flips should be heads, on average.\" \n",
    "\n",
    "What is a reasonable alternative hypothesis? \n",
    "The alternative hypothesis will assume the coin is unfair."
   ]
  },
  {
   "cell_type": "code",
   "execution_count": 15,
   "metadata": {},
   "outputs": [],
   "source": [
    "# Flip a fair coin; set 1 to be heads, 0 to be tails\n",
    "coin <- c(0, 1)"
   ]
  },
  {
   "cell_type": "code",
   "execution_count": 16,
   "metadata": {},
   "outputs": [],
   "source": [
    "# Flip this coin 10 times, 1000 times. Assuming the coin is fair\n",
    "# Let's find the number of heads. Just run the codes below\n",
    "\n",
    "num_heads <- array()\n",
    "\n",
    "for(i in c(1:1000)){\n",
    "    heads <- sample(coin, 10, replace = TRUE)\n",
    "    num_heads[i] <- sum(heads) \n",
    "}"
   ]
  },
  {
   "cell_type": "code",
   "execution_count": 17,
   "metadata": {},
   "outputs": [
    {
     "data": {
      "image/png": "[encoded data removed]",
      "text/plain": [
       "Plot with title “Histogram of num_heads”"
      ]
     },
     "metadata": {
      "image/png": {
       "height": 420,
       "width": 420
      }
     },
     "output_type": "display_data"
    }
   ],
   "source": [
    "hist(num_heads, breaks = c(0:11), col = \"gray\")\n",
    "abline(v = 9, col = \"red\", lwd = 3)"
   ]
  },
  {
   "cell_type": "markdown",
   "metadata": {},
   "source": [
    "**What does the histogram tell us about the hypotheses?**\n",
    "It tells us that we are likely to have a very small p-value and a significant result.\n",
    "\n",
    "You can confirm your thoughts by calculating the p-value. \n",
    "\n",
    "*Hint:* `num_heads` is a list of numbers of the potential outcomes of flipping a coin, assuming the coin was fair. More extreme, in this case, means greater than the observed value. "
   ]
  },
  {
   "cell_type": "code",
   "execution_count": 18,
   "metadata": {},
   "outputs": [
    {
     "data": {
      "text/html": [
       "0.009"
      ],
      "text/latex": [
       "0.009"
      ],
      "text/markdown": [
       "0.009"
      ],
      "text/plain": [
       "[1] 0.009"
      ]
     },
     "metadata": {},
     "output_type": "display_data"
    }
   ],
   "source": [
    "sum(num_heads >= 9) / 1000"
   ]
  },
  {
   "attachments": {},
   "cell_type": "markdown",
   "metadata": {},
   "source": [
    "**Let's interpret the data:**\n",
    "\n",
    "(1) What does the p-value mean in context?\n",
    "The probability of seeing an estimate as large or larger than the estimate we saw, if the null hypothesis were true.\n",
    "\n",
    "(2) What does it tell us about the coin? Is it fair or unfair? \n",
    "Since .009<.05, we reject the null hypothesis, and we conclude that the coin is unfair at at 5 significance level."
   ]
  },
  {
   "cell_type": "markdown",
   "metadata": {},
   "source": [
    "This process of using p-values (and by association, t-scores/standard error) lets us account for the uncertainty caused by random chance (e.g. if we repeated the experiment many times, what are the various potential outcomes that could happen?). \n",
    "\n",
    "In practice, when we work with real data, we'll use the `difference_in_means` function to calculate the effect, t-score, standard error, and p-value. This exercise was simply to show the statistical intuition behind these processes!"
   ]
  }
 ],
 "metadata": {
  "kernelspec": {
   "display_name": "R",
   "language": "R",
   "name": "ir"
  },
  "language_info": {
   "codemirror_mode": "r",
   "file_extension": ".r",
   "mimetype": "text/x-r-source",
   "name": "R",
   "pygments_lexer": "r",
   "version": "4.3.2"
  }
 },
 "nbformat": 4,
 "nbformat_minor": 4
}

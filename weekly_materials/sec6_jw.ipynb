{
 "cells": [
  {
   "cell_type": "markdown",
   "metadata": {},
   "source": [
    "## PS3 Discussion Week 6: P-Values, Hypothesis Test, and Confidence Intervals\n"
   ]
  },
  {
   "cell_type": "markdown",
   "metadata": {},
   "source": [
    "#Let's use the data from Problem Set 1!"
   ]
  },
  {
   "cell_type": "code",
   "execution_count": 2,
   "metadata": {},
   "outputs": [
    {
     "data": {
      "text/html": [
       "<table>\n",
       "<thead><tr><th scope=col>reply_atall</th><th scope=col>treat_deshawn</th><th scope=col>leg_republican</th><th scope=col>leg_white</th></tr></thead>\n",
       "<tbody>\n",
       "\t<tr><td>0</td><td>1</td><td>1</td><td>1</td></tr>\n",
       "\t<tr><td>0</td><td>1</td><td>1</td><td>1</td></tr>\n",
       "\t<tr><td>0</td><td>0</td><td>0</td><td>1</td></tr>\n",
       "\t<tr><td>1</td><td>0</td><td>1</td><td>1</td></tr>\n",
       "\t<tr><td>1</td><td>1</td><td>1</td><td>1</td></tr>\n",
       "\t<tr><td>0</td><td>0</td><td>0</td><td>1</td></tr>\n",
       "</tbody>\n",
       "</table>\n"
      ],
      "text/latex": [
       "\\begin{tabular}{r|llll}\n",
       " reply\\_atall & treat\\_deshawn & leg\\_republican & leg\\_white\\\\\n",
       "\\hline\n",
       "\t 0 & 1 & 1 & 1\\\\\n",
       "\t 0 & 1 & 1 & 1\\\\\n",
       "\t 0 & 0 & 0 & 1\\\\\n",
       "\t 1 & 0 & 1 & 1\\\\\n",
       "\t 1 & 1 & 1 & 1\\\\\n",
       "\t 0 & 0 & 0 & 1\\\\\n",
       "\\end{tabular}\n"
      ],
      "text/markdown": [
       "\n",
       "| reply_atall | treat_deshawn | leg_republican | leg_white |\n",
       "|---|---|---|---|\n",
       "| 0 | 1 | 1 | 1 |\n",
       "| 0 | 1 | 1 | 1 |\n",
       "| 0 | 0 | 0 | 1 |\n",
       "| 1 | 0 | 1 | 1 |\n",
       "| 1 | 1 | 1 | 1 |\n",
       "| 0 | 0 | 0 | 1 |\n",
       "\n"
      ],
      "text/plain": [
       "  reply_atall treat_deshawn leg_republican leg_white\n",
       "1 0           1             1              1        \n",
       "2 0           1             1              1        \n",
       "3 0           0             0              1        \n",
       "4 1           0             1              1        \n",
       "5 1           1             1              1        \n",
       "6 0           0             0              1        "
      ]
     },
     "metadata": {},
     "output_type": "display_data"
    }
   ],
   "source": [
    "\n",
    "bb_data <- read.csv(\"ps1.csv\")\n",
    "head(bb_data)"
   ]
  },
  {
   "cell_type": "code",
   "execution_count": 36,
   "metadata": {},
   "outputs": [
    {
     "data": {
      "text/plain": [
       "Design:  Standard \n",
       "                 Estimate Std. Error   t value   Pr(>|t|)    CI Lower\n",
       "treat_deshawn -0.05132993 0.02453107 -2.092446 0.03655441 -0.09944599\n",
       "                  CI Upper       DF\n",
       "treat_deshawn -0.003213862 1615.061"
      ]
     },
     "metadata": {},
     "output_type": "display_data"
    }
   ],
   "source": [
    "#Let's use the contact data to calculate the difference in means!\n",
    "difference_in_means(data=bb_data, reply_atall ~ treat_deshawn, condition1=\"0\",condition2=\"1\")"
   ]
  },
  {
   "cell_type": "code",
   "execution_count": 37,
   "metadata": {},
   "outputs": [],
   "source": [
    "#What's the estimate?\n",
    "\n",
    "#What's the p-value?"
   ]
  },
  {
   "cell_type": "markdown",
   "metadata": {},
   "source": [
    "### After the section, return here and write in your own words what the P-value is for the below two cases:"
   ]
  },
  {
   "cell_type": "code",
   "execution_count": 33,
   "metadata": {},
   "outputs": [
    {
     "data": {
      "text/plain": [
       "Design:  Standard \n",
       "                 Estimate Std. Error    t value  Pr(>|t|)    CI Lower\n",
       "treat_deshawn -0.02667561 0.03337392 -0.7992951 0.4243321 -0.09217617\n",
       "                CI Upper       DF\n",
       "treat_deshawn 0.03882495 891.9346"
      ]
     },
     "metadata": {},
     "output_type": "display_data"
    }
   ],
   "source": [
    "bb_data_dem <- subset(bb_data, leg_republican==0)\n",
    "difference_in_means(data=bb_data_dem, reply_atall ~ treat_deshawn, condition1=\"0\",condition2=\"1\")"
   ]
  },
  {
   "cell_type": "code",
   "execution_count": 35,
   "metadata": {},
   "outputs": [
    {
     "data": {
      "text/plain": [
       "Design:  Standard \n",
       "                 Estimate Std. Error   t value   Pr(>|t|)   CI Lower\n",
       "treat_deshawn -0.08144078 0.03582111 -2.273542 0.02328733 -0.1517671\n",
       "                 CI Upper       DF\n",
       "treat_deshawn -0.01111443 719.6899"
      ]
     },
     "metadata": {},
     "output_type": "display_data"
    }
   ],
   "source": [
    "bb_data_rep <- subset(bb_data, leg_republican==1)\n",
    "difference_in_means(data=bb_data_rep, reply_atall ~ treat_deshawn, condition1=\"0\",condition2=\"1\")"
   ]
  },
  {
   "cell_type": "markdown",
   "metadata": {},
   "source": [
    "#### Let's unpack these numbers: Estimate and Std.Error! (back to slides)"
   ]
  },
  {
   "cell_type": "code",
   "execution_count": null,
   "metadata": {},
   "outputs": [],
   "source": []
  }
 ],
 "metadata": {
  "kernelspec": {
   "display_name": "R",
   "language": "R",
   "name": "ir"
  },
  "language_info": {
   "codemirror_mode": "r",
   "file_extension": ".r",
   "mimetype": "text/x-r-source",
   "name": "R",
   "pygments_lexer": "r",
   "version": "3.6.1"
  }
 },
 "nbformat": 4,
 "nbformat_minor": 4
}
